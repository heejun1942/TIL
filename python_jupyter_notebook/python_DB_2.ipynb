{
 "cells": [
  {
   "cell_type": "code",
   "execution_count": 8,
   "metadata": {},
   "outputs": [
    {
     "name": "stdout",
     "output_type": "stream",
     "text": [
      "2016 강원 206\n",
      "2016 경기 749\n",
      "2016 경남 359\n",
      "2016 경북 477\n",
      "2016 광주 85\n",
      "2016 대구 150\n",
      "2016 대전 94\n",
      "2016 부산 153\n",
      "2016 서울 342\n",
      "2016 세종 25\n",
      "2016 울산 70\n",
      "2016 인천 137\n",
      "2016 전남 327\n",
      "2016 전북 275\n",
      "2016 제주 77\n",
      "2016 충남 372\n",
      "2016 충북 221\n"
     ]
    }
   ],
   "source": [
    "import pymysql\n",
    "\n",
    "conn = pymysql.connect(\n",
    " host='localhost', user='root', password='1146',\n",
    " db='mydb', charset='utf8'\n",
    ")\n",
    "\n",
    "cursor=conn.cursor()\n",
    "sql='''SELECT year,area1,count(*) \n",
    "        FROM accident\n",
    "        GROUP BY area1, year'''\n",
    "\n",
    "cursor.execute(sql)\n",
    "result= cursor.fetchall()\n",
    "for row in result:\n",
    "    print(row[0], row[1], row[2])\n",
    "    \n",
    "conn.commit()\n",
    "cursor.close()\n",
    "conn.close()"
   ]
  },
  {
   "cell_type": "code",
   "execution_count": 10,
   "metadata": {},
   "outputs": [
    {
     "name": "stdout",
     "output_type": "stream",
     "text": [
      "강원 2016 206\n",
      "경기 2016 749\n",
      "경남 2016 359\n",
      "경북 2016 477\n",
      "광주 2016 85\n",
      "대구 2016 150\n",
      "대전 2016 94\n",
      "부산 2016 153\n",
      "서울 2016 342\n",
      "세종 2016 25\n",
      "울산 2016 70\n",
      "인천 2016 137\n",
      "전남 2016 327\n",
      "전북 2016 275\n",
      "제주 2016 77\n",
      "충남 2016 372\n",
      "충북 2016 221\n"
     ]
    }
   ],
   "source": [
    "import pymysql\n",
    "\n",
    "conn = pymysql.connect(\n",
    " host='localhost', user='root', password='1146',\n",
    " db='mydb', charset='utf8'\n",
    ")\n",
    "\n",
    "cursor=conn.cursor(pymysql.cursors.DictCursor)\n",
    "sql='''SELECT id,year,area1,count(*) as cnt\n",
    "        FROM accident\n",
    "        GROUP BY area1, year'''\n",
    "\n",
    "cursor.execute(sql)\n",
    "result= cursor.fetchall()\n",
    "for row in result:\n",
    "    print(row['area1'], row['year'], row['cnt'])\n",
    "    \n",
    "conn.commit()\n",
    "cursor.close()\n",
    "conn.close()"
   ]
  },
  {
   "cell_type": "code",
   "execution_count": 13,
   "metadata": {},
   "outputs": [],
   "source": [
    "import pymysql\n",
    "\n",
    "conn = pymysql.connect(\n",
    " host='localhost', user='root', password='1146',\n",
    " db='pythondb', charset='utf8'\n",
    ")\n",
    "\n",
    "cursor=conn.cursor()\n",
    "sql='''INSERT INTO member (num, name, email, c_date) VALUES (null, %s, %s, now())'''\n",
    "\n",
    "cursor.execute(sql,('a', 'a@a.com'))\n",
    "conn.commit()\n",
    "\n",
    "cursor.close()\n",
    "conn.close()"
   ]
  },
  {
   "cell_type": "code",
   "execution_count": 21,
   "metadata": {},
   "outputs": [],
   "source": [
    "import pymysql\n",
    "\n",
    "conn = pymysql.connect(\n",
    " host='localhost', user='root', password='1146',\n",
    " db='pythondb', charset='utf8'\n",
    ")\n",
    "\n",
    "cursor=conn.cursor()\n",
    "sql='''INSERT INTO article (id,title,content,writer,hit,c_date) VALUES (null, %s, %s,%s,%s, now())'''\n",
    "\n",
    "cursor.execute(sql,('제목','내용','파이썬',1))\n",
    "conn.commit()\n",
    "\n",
    "cursor.close()\n",
    "conn.close()"
   ]
  },
  {
   "cell_type": "code",
   "execution_count": 18,
   "metadata": {},
   "outputs": [],
   "source": [
    "import pymysql\n",
    "\n",
    "conn=pymysql.connect(\n",
    "    host='localhost', user='root', password='1146',\n",
    "    db='pythondb', charset='utf8'\n",
    ")\n",
    "\n",
    "cursor=conn.cursor()\n",
    "sql='''UPDATE member SET name=%s, email=%s WHERE num=%s'''\n",
    "\n",
    "\n",
    "cursor.execute(sql,('aa','aa@aa.com',1))\n",
    "\n",
    "conn.commit()\n",
    "cursor.close()\n",
    "conn.close()"
   ]
  },
  {
   "cell_type": "code",
   "execution_count": 20,
   "metadata": {},
   "outputs": [],
   "source": [
    "import pymysql\n",
    "\n",
    "conn=pymysql.connect(\n",
    "    host='localhost', user='root', password='1146',\n",
    "    db='pythondb', charset='utf8'\n",
    ")\n",
    "\n",
    "cursor=conn.cursor()\n",
    "sql='''UPDATE article SET title=%s, content=%s WHERE id=%s'''\n",
    "\n",
    "\n",
    "cursor.execute(sql,('제목수정','내용수정',1))\n",
    "\n",
    "conn.commit()\n",
    "cursor.close()\n",
    "conn.close()"
   ]
  },
  {
   "cell_type": "code",
   "execution_count": 29,
   "metadata": {},
   "outputs": [
    {
     "name": "stdout",
     "output_type": "stream",
     "text": [
      "원하는 페이지 번호를 입력해주세요.1\n",
      "7369 SMITH\n",
      "7499 ALLEN\n",
      "7521 WARD\n",
      "7566 JONES\n",
      "7654 MARTIN\n",
      "7698 BLAKE\n",
      "7782 CLARK\n",
      "7788 SCOTT\n",
      "7839 KING\n",
      "7844 TURNER\n"
     ]
    }
   ],
   "source": [
    "import pymysql\n",
    "\n",
    "page_num = input('원하는 페이지 번호를 입력해주세요.')\n",
    "page_num = int(page_num)\n",
    "end_num= page_num*10\n",
    "start_num= end_num-9\n",
    "\n",
    "conn=pymysql.connect(\n",
    "    host='localhost', user='root', password='1146',\n",
    "    db='mydb', charset='utf8'\n",
    ")\n",
    "\n",
    "cursor=conn.cursor(pymysql.cursors.DictCursor)\n",
    "sql='''SELECT * FROM EMP LIMIT %s, 10'''\n",
    "cursor.execute(sql,(start_num-1))\n",
    "result=cursor.fetchall()\n",
    "\n",
    "for row in result:\n",
    "    print(row['EMPNO'], row['ENAME'])\n",
    "\n",
    "conn.commit()\n",
    "cursor.close()\n",
    "conn.close()"
   ]
  },
  {
   "cell_type": "code",
   "execution_count": 31,
   "metadata": {},
   "outputs": [],
   "source": [
    "import pymysql\n",
    "def insert(sql, data):\n",
    "    cursor.execute(sql, data)\n",
    "conn = pymysql.connect(\n",
    "    host='localhost', user='root', password='1146',\n",
    "    db='pythondb', charset='utf8')\n",
    "cursor = conn.cursor()\n",
    "# 데이터 100개 입력\n",
    "sql = '''INSERT INTO MEMBER\n",
    "        (NUM, NAME, EMAIL, C_DATE)\n",
    "        VALUES (NULL, %s, %s, NOW())'''\n",
    "for i in range(1, 101):\n",
    "    insert(sql, ('제목' + str(i), 'a@a.com'))\n",
    "\n",
    "conn.commit()\n",
    "cursor.close()\n",
    "conn.close()    "
   ]
  },
  {
   "cell_type": "code",
   "execution_count": 40,
   "metadata": {},
   "outputs": [
    {
     "name": "stdout",
     "output_type": "stream",
     "text": [
      "201 제목100 a@a.com 2020-01-28 11:19:31 \n",
      "200 제목99 a@a.com 2020-01-28 11:19:31 \n",
      "199 제목98 a@a.com 2020-01-28 11:19:31 \n",
      "198 제목97 a@a.com 2020-01-28 11:19:31 \n",
      "197 제목96 a@a.com 2020-01-28 11:19:31 \n"
     ]
    }
   ],
   "source": [
    "import pymysql\n",
    "\n",
    "conn = pymysql.connect(\n",
    "    host='localhost', user='root', password='1146',\n",
    "    db='pythondb', charset='utf8')\n",
    "\n",
    "cursor = conn.cursor()\n",
    "\n",
    "sql = '''SELECT * FROM MEMBER\n",
    "            ORDER BY num DESC\n",
    "            LIMIT 0, 5'''\n",
    "\n",
    "cursor.execute(sql)\n",
    "result=cursor.fetchall()\n",
    "\n",
    "for row in result:\n",
    "    for col in row:\n",
    "        print(col, end=' ')\n",
    "    print()\n",
    "\n",
    "conn.commit()\n",
    "cursor.close()\n",
    "conn.close() "
   ]
  },
  {
   "cell_type": "code",
   "execution_count": 37,
   "metadata": {},
   "outputs": [],
   "source": [
    "import pymysql\n",
    "def insert(sql, data):\n",
    "    cursor.execute(sql, data)\n",
    "conn = pymysql.connect(\n",
    "    host='localhost', user='root', password='1146',\n",
    "    db='pythondb', charset='utf8')\n",
    "cursor = conn.cursor()\n",
    "# 데이터 100개 입력\n",
    "sql = '''INSERT INTO ARTICLE\n",
    "        (ID, TITLE, CONTENT, WRITER, HIT, C_DATE)\n",
    "        VALUES (NULL, %s, %s, %s, 0, NOW())'''\n",
    "for i in range(1, 101):\n",
    "    insert(sql,('제목' + str(i), '내용' + str(i), '파이썬'))\n",
    "\n",
    "conn.commit()\n",
    "cursor.close()\n",
    "conn.close()  "
   ]
  },
  {
   "cell_type": "code",
   "execution_count": 38,
   "metadata": {},
   "outputs": [
    {
     "name": "stdout",
     "output_type": "stream",
     "text": [
      "원하는 페이지 번호를 입력해주세요.5\n",
      "41 제목38\n",
      "42 제목39\n",
      "43 제목40\n",
      "44 제목41\n",
      "45 제목42\n"
     ]
    }
   ],
   "source": [
    "import pymysql\n",
    "\n",
    "page_num = input('원하는 페이지 번호를 입력해주세요.')\n",
    "page_num = int(page_num)\n",
    "end_num= page_num*10\n",
    "start_num= end_num-9\n",
    "\n",
    "conn = pymysql.connect(\n",
    "    host='localhost', user='root', password='1146',\n",
    "    db='pythondb', charset='utf8')\n",
    "\n",
    "cursor = conn.cursor()\n",
    "\n",
    "sql = '''SELECT * FROM article LIMIT %s, 5'''\n",
    "\n",
    "cursor.execute(sql,(start_num-1))\n",
    "result=cursor.fetchall()\n",
    "\n",
    "for row in result:\n",
    "    print(row[0], row[1])\n",
    "\n",
    "conn.commit()\n",
    "cursor.close()\n",
    "conn.close() "
   ]
  },
  {
   "cell_type": "code",
   "execution_count": 43,
   "metadata": {},
   "outputs": [
    {
     "name": "stdout",
     "output_type": "stream",
     "text": [
      "800 속씨원한대구탕 24시간 속을 시원하게 풀어주는 대구탕 전문점 연중무휴 주차가능 /save_img/shop_img/24f761ee-3bdc-4f89-a9c6-0f90ecc69a8b.jpg \n",
      "808 신기산업 영도 앞바다가 한 눈에 들어오는 카페 연중무휴 주차가능 /save_img/shop_img/c6890c3b-88b4-49a8-8ed4-db7bde14f78c.jpg \n"
     ]
    }
   ],
   "source": [
    "import pymysql\n",
    "\n",
    "conn = pymysql.connect(\n",
    "    host='localhost', user='root', password='1146',\n",
    "    db='pythondb', charset='utf8')\n",
    "\n",
    "cursor = conn.cursor()\n",
    "\n",
    "sql = '''SELECT * FROM shop where rest_date=%s and parking_info=%s'''\n",
    "\n",
    "cursor.execute(sql,('연중무휴','주차가능'))\n",
    "result=cursor.fetchall()\n",
    "\n",
    "for row in result:\n",
    "    for col in row:\n",
    "        print(col, end=' ')\n",
    "    print()\n",
    "\n",
    "conn.commit()\n",
    "cursor.close()\n",
    "conn.close() "
   ]
  },
  {
   "cell_type": "code",
   "execution_count": 75,
   "metadata": {},
   "outputs": [
    {
     "name": "stdout",
     "output_type": "stream",
     "text": [
      "a 일길동 751111-*******\n",
      "b 이길동 761111-*******\n",
      "c 삼길동 771111-*******\n",
      "d 사길동 781111-*******\n",
      "e 오길동 791111-*******\n",
      "f 육길동 801111-*******\n",
      "g 칠길동 811111-*******\n"
     ]
    }
   ],
   "source": [
    "import pymysql\n",
    "import re  # 정규식을 위해 import함\n",
    "\n",
    "conn = pymysql.connect(\n",
    "    host='localhost', user='root', password='1146',\n",
    "    db='pythondb', charset='utf8')\n",
    "\n",
    "cursor = conn.cursor()\n",
    "\n",
    "sql = '''SELECT * FROM info'''\n",
    "\n",
    "cursor.execute(sql)\n",
    "result=cursor.fetchall()\n",
    "\n",
    "pattern=re.compile('(\\d{6})-\\d{7}')\n",
    "change='\\g<1>-*******'\n",
    "\n",
    "for row in result:\n",
    "    print(row[0], row[1], pattern.sub(change,row[2]))\n",
    "\n",
    "conn.commit()\n",
    "cursor.close()\n",
    "conn.close() "
   ]
  },
  {
   "cell_type": "code",
   "execution_count": null,
   "metadata": {},
   "outputs": [],
   "source": []
  },
  {
   "cell_type": "markdown",
   "metadata": {},
   "source": [
    "## MongoDB 사용하기"
   ]
  },
  {
   "cell_type": "code",
   "execution_count": 2,
   "metadata": {},
   "outputs": [],
   "source": [
    "from pymongo import MongoClient"
   ]
  },
  {
   "cell_type": "code",
   "execution_count": 3,
   "metadata": {},
   "outputs": [],
   "source": [
    "client = MongoClient(host='localhost', port=27017)"
   ]
  },
  {
   "cell_type": "code",
   "execution_count": 4,
   "metadata": {},
   "outputs": [],
   "source": [
    "db = client['test']"
   ]
  },
  {
   "cell_type": "code",
   "execution_count": 5,
   "metadata": {},
   "outputs": [],
   "source": [
    "cursor = db.score.find()"
   ]
  },
  {
   "cell_type": "code",
   "execution_count": 12,
   "metadata": {},
   "outputs": [
    {
     "name": "stdout",
     "output_type": "stream",
     "text": [
      "99.0\n",
      "0.0\n",
      "1.0\n",
      "2.0\n",
      "3.0\n",
      "4.0\n",
      "5\n"
     ]
    }
   ],
   "source": [
    "cursor.rewind()  # 커서 되돌리기\n",
    "\n",
    "for data in list(cursor):\n",
    "    print(data['a'])"
   ]
  },
  {
   "cell_type": "code",
   "execution_count": 10,
   "metadata": {},
   "outputs": [
    {
     "name": "stderr",
     "output_type": "stream",
     "text": [
      "C:\\Users\\student\\Miniconda3\\lib\\site-packages\\ipykernel_launcher.py:1: DeprecationWarning: save is deprecated. Use insert_one or replace_one instead\n",
      "  \"\"\"Entry point for launching an IPython kernel.\n"
     ]
    },
    {
     "data": {
      "text/plain": [
       "ObjectId('5e2ff1de48084c6ef36d6b9e')"
      ]
     },
     "execution_count": 10,
     "metadata": {},
     "output_type": "execute_result"
    }
   ],
   "source": [
    "db.score.save({'a':5,'exam':6})"
   ]
  },
  {
   "cell_type": "code",
   "execution_count": 17,
   "metadata": {},
   "outputs": [],
   "source": [
    "from pymongo import MongoClient"
   ]
  },
  {
   "cell_type": "code",
   "execution_count": 18,
   "metadata": {},
   "outputs": [],
   "source": [
    "client = MongoClient(host='localhost', port=27017)\n",
    "db = client['test']"
   ]
  },
  {
   "cell_type": "code",
   "execution_count": 20,
   "metadata": {},
   "outputs": [
    {
     "name": "stderr",
     "output_type": "stream",
     "text": [
      "C:\\Users\\student\\Miniconda3\\lib\\site-packages\\ipykernel_launcher.py:22: DeprecationWarning: save is deprecated. Use insert_one or replace_one instead\n",
      "C:\\Users\\student\\Miniconda3\\lib\\site-packages\\ipykernel_launcher.py:23: DeprecationWarning: save is deprecated. Use insert_one or replace_one instead\n",
      "C:\\Users\\student\\Miniconda3\\lib\\site-packages\\ipykernel_launcher.py:24: DeprecationWarning: save is deprecated. Use insert_one or replace_one instead\n",
      "C:\\Users\\student\\Miniconda3\\lib\\site-packages\\ipykernel_launcher.py:25: DeprecationWarning: save is deprecated. Use insert_one or replace_one instead\n",
      "C:\\Users\\student\\Miniconda3\\lib\\site-packages\\ipykernel_launcher.py:26: DeprecationWarning: save is deprecated. Use insert_one or replace_one instead\n"
     ]
    },
    {
     "name": "stdout",
     "output_type": "stream",
     "text": [
      "여행 기간 : 3박4일\n",
      "출발 가능 기간 : 2020.01.29~2020.05.03\n",
      "평점 0.0\n",
      "0개의 상품평\n",
      "====================\n",
      "여행 기간 : 3박5일\n",
      "출발 가능 기간 : 2020.01.28~2020.06.30\n",
      "평점 10.0\n",
      "1개의 상품평\n",
      "====================\n",
      "여행 기간 : 3박5일\n",
      "출발 가능 기간 : 2020.01.28~2020.03.28\n",
      "평점 0.0\n",
      "0개의 상품평\n",
      "====================\n",
      "여행 기간 : 3박5일\n",
      "출발 가능 기간 : 2020.01.28~2020.03.28\n",
      "평점 10.0\n",
      "1개의 상품평\n",
      "====================\n",
      "여행 기간 : 3박5일\n",
      "출발 가능 기간 : 2020.01.28~2020.07.31\n",
      "평점 6.3\n",
      "2개의 상품평\n",
      "====================\n",
      "여행 기간 : 3박5일\n",
      "출발 가능 기간 : 2020.01.28~2020.03.31\n",
      "평점 4.0\n",
      "1개의 상품평\n",
      "====================\n",
      "여행 기간 : 3박4일\n",
      "출발 가능 기간 : 2020.01.29~2020.06.28\n",
      "평점 0.0\n",
      "0개의 상품평\n",
      "====================\n",
      "여행 기간 : 3박4일\n",
      "출발 가능 기간 : 2020.01.28~2020.07.31\n",
      "평점 0.0\n",
      "0개의 상품평\n",
      "====================\n",
      "여행 기간 : 3박4일\n",
      "출발 가능 기간 : 2020.01.28~2020.07.31\n",
      "평점 10.0\n",
      "1개의 상품평\n",
      "====================\n",
      "여행 기간 : 3박5일\n",
      "출발 가능 기간 : 2020.01.28~2020.06.27\n",
      "평점 0.0\n",
      "0개의 상품평\n",
      "====================\n"
     ]
    }
   ],
   "source": [
    "from selenium import webdriver as wd\n",
    "driver = wd.Chrome(executable_path='chromedriver.exe')\n",
    "from selenium.webdriver.common.by import By\n",
    "from selenium.webdriver.support.ui import WebDriverWait\n",
    "from selenium.webdriver.support import expected_conditions as EC\n",
    "import time\n",
    "driver.get('http://tour.interpark.com')\n",
    "driver.implicitly_wait(10)\n",
    "driver.find_element_by_id('SearchGNBText').send_keys('달랏')\n",
    "driver.find_element_by_css_selector('button.search-btn').click()\n",
    "WebDriverWait(driver, 10).until(\n",
    " EC.presence_of_element_located((By.CLASS_NAME, 'oTravelBox'))\n",
    ")\n",
    "driver.find_element_by_css_selector('.oTravelBox .moreBtn').click()\n",
    "\n",
    "for page in range(1, 2):\n",
    "    driver.execute_script(\"searchModule.SetCategoryList(%s, '')\" % page)\n",
    "    time.sleep(2)\n",
    "    boxItems = driver.find_elements_by_css_selector(\n",
    "    '.panelZone > .oTravelBox > .boxList > li')\n",
    "    for li in boxItems:\n",
    "        db.tour.save({'img': li.find_element_by_css_selector('img.img').get_attribute('src')})\n",
    "        db.tour.save({'link': li.find_element_by_css_selector('a').get_attribute('onclick')})\n",
    "        db.tour.save({'title': li.find_element_by_css_selector('h5.proTit').text})\n",
    "        db.tour.save({'desc': li.find_element_by_css_selector('.proSub').text})\n",
    "        db.tour.save({'price': li.find_element_by_css_selector('strong.proPrice').text})\n",
    "        for info in li.find_elements_by_css_selector('.info-row .proInfo'):\n",
    "            print(info.text)\n",
    "        print('=' * 20)\n",
    "driver.close()"
   ]
  },
  {
   "cell_type": "code",
   "execution_count": 24,
   "metadata": {
    "scrolled": true
   },
   "outputs": [
    {
     "name": "stdout",
     "output_type": "stream",
     "text": [
      "{'_id': ObjectId('5e2ff53048084c6ef36d6ba0'), 'img': 'http://tourimage.interpark.com/product/tour/00161/A10/280/A1031420_1_027.jpg'}\n",
      "{'_id': ObjectId('5e2ff53248084c6ef36d6ba1'), 'link': \"searchModule.OnClickDetail('http://tour.interpark.com/goods/detail/?BaseGoodsCd=A1031420','')\"}\n",
      "{'_id': ObjectId('5e2ff53248084c6ef36d6ba2'), 'title': '[달랏4일] 낭만도시 달랏 직항+랑비앙 포함 3박4일'}\n",
      "{'_id': ObjectId('5e2ff53248084c6ef36d6ba3'), 'desc': '★직항 취항 기념 초특가★'}\n",
      "{'_id': ObjectId('5e2ff53248084c6ef36d6ba4'), 'price': '365,000 원~'}\n",
      "{'_id': ObjectId('5e2ff53248084c6ef36d6ba5'), 'img': 'http://tourimage.interpark.com/product/tour/00161/A10/280/A1024924_1_620.jpg'}\n",
      "{'_id': ObjectId('5e2ff53248084c6ef36d6ba6'), 'link': \"searchModule.OnClickDetail('http://tour.interpark.com/goods/detail/?BaseGoodsCd=A1024924','')\"}\n",
      "{'_id': ObjectId('5e2ff53248084c6ef36d6ba7'), 'title': '[나트랑/달랏5일] 시원한 낭만도시 랑비앙관광 5일'}\n",
      "{'_id': ObjectId('5e2ff53248084c6ef36d6ba8'), 'desc': '★떠오르는 베트남 인생여행지★'}\n",
      "{'_id': ObjectId('5e2ff53248084c6ef36d6ba9'), 'price': '434,700 원~'}\n",
      "{'_id': ObjectId('5e2ff53248084c6ef36d6baa'), 'img': 'http://tourimage.interpark.com/product/tour/00161/A10/280/A1025044_3_337.jpg'}\n",
      "{'_id': ObjectId('5e2ff53248084c6ef36d6bab'), 'link': \"searchModule.OnClickDetail('http://tour.interpark.com/goods/detail/?BaseGoodsCd=A1025044','')\"}\n",
      "{'_id': ObjectId('5e2ff53248084c6ef36d6bac'), 'title': '[대구출발_나트랑5일] 지금 핫한 그곳! 아름다운 나트랑/달랏 관광'}\n",
      "{'_id': ObjectId('5e2ff53248084c6ef36d6bad'), 'desc': '머드온천&나트랑 시내관광 포함-동양의 나폴리 나트랑&달랏여행♥'}\n",
      "{'_id': ObjectId('5e2ff53248084c6ef36d6bae'), 'price': '499,000 원~'}\n",
      "{'_id': ObjectId('5e2ff53348084c6ef36d6baf'), 'img': 'http://tourimage.interpark.com/product/tour/00161/A10/280/A1031349_1_470.jpg'}\n",
      "{'_id': ObjectId('5e2ff53348084c6ef36d6bb0'), 'link': \"searchModule.OnClickDetail('http://tour.interpark.com/goods/detail/?BaseGoodsCd=A1031349','')\"}\n",
      "{'_id': ObjectId('5e2ff53348084c6ef36d6bb1'), 'title': '[나트랑 5일★연합] 나트랑 1박/ 달랏 2박 꽉찬 관광일정'}\n",
      "{'_id': ObjectId('5e2ff53348084c6ef36d6bb2'), 'desc': '신규취항★뱀부항공/기내식제공/수하물20KG'}\n",
      "{'_id': ObjectId('5e2ff53348084c6ef36d6bb3'), 'price': '349,000 원~'}\n",
      "{'_id': ObjectId('5e2ff53348084c6ef36d6bb4'), 'img': 'http://img.modetour.com/eagle/photoimg/42164/bfile/636724338253061415.JPG'}\n",
      "{'_id': ObjectId('5e2ff53348084c6ef36d6bb5'), 'link': \"searchModule.OnClickDetail('http://tour.interpark.com/goods/detail/?BaseGoodsCd=A1023759','')\"}\n",
      "{'_id': ObjectId('5e2ff53348084c6ef36d6bb6'), 'title': '*출발확정*[관광형] 나트랑x달랏 3박5일 [4성(1박)+달랏(2박)]'}\n",
      "{'_id': ObjectId('5e2ff53348084c6ef36d6bb7'), 'desc': '최대 7만원 쿠폰할인 (출발일 2020.01.01~2020.03.31)'}\n",
      "{'_id': ObjectId('5e2ff53348084c6ef36d6bb8'), 'price': '405,000 원~'}\n",
      "{'_id': ObjectId('5e2ff53348084c6ef36d6bb9'), 'img': 'http://tourimage.interpark.com/product/tour/00161/A10/280/A1025396_7_460.jpg'}\n",
      "{'_id': ObjectId('5e2ff53348084c6ef36d6bba'), 'link': \"searchModule.OnClickDetail('http://tour.interpark.com/goods/detail/?BaseGoodsCd=A1025396','')\"}\n",
      "{'_id': ObjectId('5e2ff53348084c6ef36d6bbb'), 'title': '[부산출발_나트랑5일] 떠오르는 여행지 나트랑 + 봄의 도시 달랏을 동시에!! 실속 관광형'}\n",
      "{'_id': ObjectId('5e2ff53348084c6ef36d6bbc'), 'desc': '전 일전 준특급호텔 + 아름다운 나트랑 달랏 관광♡'}\n",
      "{'_id': ObjectId('5e2ff53348084c6ef36d6bbd'), 'price': '499,000 원~'}\n",
      "{'_id': ObjectId('5e2ff53348084c6ef36d6bbe'), 'img': 'http://img.modetour.com/eagle/photoimg/59122/bfile/636724338211701392.JPG'}\n",
      "{'_id': ObjectId('5e2ff53348084c6ef36d6bbf'), 'link': \"searchModule.OnClickDetail('http://tour.interpark.com/goods/detail/?BaseGoodsCd=A1031529','')\"}\n",
      "{'_id': ObjectId('5e2ff53348084c6ef36d6bc0'), 'title': '[영원한봄의도시] 달랏 패키지 3박4일 [5성호텔]'}\n",
      "{'_id': ObjectId('5e2ff53348084c6ef36d6bc1'), 'desc': ''}\n",
      "{'_id': ObjectId('5e2ff53348084c6ef36d6bc2'), 'price': '471,000 원~'}\n",
      "{'_id': ObjectId('5e2ff53348084c6ef36d6bc3'), 'img': 'http://img.modetour.com/eagle/photoimg/42164/bfile/636724338249268660.JPG'}\n",
      "{'_id': ObjectId('5e2ff53348084c6ef36d6bc4'), 'link': \"searchModule.OnClickDetail('http://tour.interpark.com/goods/detail/?BaseGoodsCd=A1025809','')\"}\n",
      "{'_id': ObjectId('5e2ff53348084c6ef36d6bc5'), 'title': '*출발확정*[증편기][관광형] 나트랑x달랏 3박5일 [4성(1박)+달랏(2박)]'}\n",
      "{'_id': ObjectId('5e2ff53348084c6ef36d6bc6'), 'desc': ''}\n",
      "{'_id': ObjectId('5e2ff53348084c6ef36d6bc7'), 'price': '352,000 원~'}\n",
      "{'_id': ObjectId('5e2ff53348084c6ef36d6bc8'), 'img': 'http://img.modetour.com/eagle/photoimg/42171/bfile/636724338177366577.JPG'}\n",
      "{'_id': ObjectId('5e2ff53348084c6ef36d6bc9'), 'link': \"searchModule.OnClickDetail('http://tour.interpark.com/goods/detail/?BaseGoodsCd=A1025810','')\"}\n",
      "{'_id': ObjectId('5e2ff53348084c6ef36d6bca'), 'title': '[증편기][관광형] 나트랑x달랏 3박5일 [5성(1박)+달랏(2박)]'}\n",
      "{'_id': ObjectId('5e2ff53348084c6ef36d6bcb'), 'desc': ''}\n",
      "{'_id': ObjectId('5e2ff53348084c6ef36d6bcc'), 'price': '405,000 원~'}\n",
      "{'_id': ObjectId('5e2ff53348084c6ef36d6bcd'), 'img': 'http://img.modetour.com/eagle/photoimg/56584/bfile/636453195339574051.JPG'}\n",
      "{'_id': ObjectId('5e2ff53348084c6ef36d6bce'), 'link': \"searchModule.OnClickDetail('http://tour.interpark.com/goods/detail/?BaseGoodsCd=Q1011029','')\"}\n",
      "{'_id': ObjectId('5e2ff53348084c6ef36d6bcf'), 'title': '●연중 봄의 도시, 달랏● [5성호텔] 달랏 3색 골프(54홀) + 관광 3박 5일'}\n",
      "{'_id': ObjectId('5e2ff53348084c6ef36d6bd0'), 'desc': ''}\n",
      "{'_id': ObjectId('5e2ff53448084c6ef36d6bd1'), 'price': '1,480,000 원~'}\n"
     ]
    }
   ],
   "source": [
    "cursor = db.tour.find()\n",
    "for data in list(cursor):\n",
    "    print(data)"
   ]
  },
  {
   "cell_type": "code",
   "execution_count": 27,
   "metadata": {},
   "outputs": [
    {
     "ename": "KeyError",
     "evalue": "'title'",
     "output_type": "error",
     "traceback": [
      "\u001b[1;31m---------------------------------------------------------------------------\u001b[0m",
      "\u001b[1;31mKeyError\u001b[0m                                  Traceback (most recent call last)",
      "\u001b[1;32m<ipython-input-27-f1d2160ca571>\u001b[0m in \u001b[0;36m<module>\u001b[1;34m\u001b[0m\n\u001b[0;32m      2\u001b[0m \u001b[1;33m\u001b[0m\u001b[0m\n\u001b[0;32m      3\u001b[0m \u001b[1;32mfor\u001b[0m \u001b[0mdata\u001b[0m \u001b[1;32min\u001b[0m \u001b[0mlist\u001b[0m\u001b[1;33m(\u001b[0m\u001b[0mcursor\u001b[0m\u001b[1;33m)\u001b[0m\u001b[1;33m:\u001b[0m\u001b[1;33m\u001b[0m\u001b[1;33m\u001b[0m\u001b[0m\n\u001b[1;32m----> 4\u001b[1;33m     \u001b[0mprint\u001b[0m\u001b[1;33m(\u001b[0m\u001b[0mdata\u001b[0m\u001b[1;33m[\u001b[0m\u001b[1;34m'title'\u001b[0m\u001b[1;33m]\u001b[0m\u001b[1;33m)\u001b[0m\u001b[1;33m\u001b[0m\u001b[1;33m\u001b[0m\u001b[0m\n\u001b[0m",
      "\u001b[1;31mKeyError\u001b[0m: 'title'"
     ]
    }
   ],
   "source": [
    "cursor.rewind()\n",
    "\n",
    "for data in list(cursor):\n",
    "    print(data['title'])"
   ]
  },
  {
   "cell_type": "code",
   "execution_count": null,
   "metadata": {},
   "outputs": [],
   "source": []
  }
 ],
 "metadata": {
  "kernelspec": {
   "display_name": "Python 3",
   "language": "python",
   "name": "python3"
  },
  "language_info": {
   "codemirror_mode": {
    "name": "ipython",
    "version": 3
   },
   "file_extension": ".py",
   "mimetype": "text/x-python",
   "name": "python",
   "nbconvert_exporter": "python",
   "pygments_lexer": "ipython3",
   "version": "3.7.4"
  }
 },
 "nbformat": 4,
 "nbformat_minor": 2
}
