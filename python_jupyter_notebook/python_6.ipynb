{
 "cells": [
  {
   "cell_type": "code",
   "execution_count": 21,
   "metadata": {},
   "outputs": [
    {
     "name": "stdout",
     "output_type": "stream",
     "text": [
      "None\n",
      "None\n",
      "False\n"
     ]
    }
   ],
   "source": [
    "import re\n",
    "pat = re.compile('[abc]')\n",
    "s='python'\n",
    "ss='sea'\n",
    "print(pat.match(s))\n",
    "print(pat.match(ss))\n",
    "\n",
    "if pat.match(s):\n",
    "    print(True)\n",
    "else:\n",
    "    print(False)"
   ]
  },
  {
   "cell_type": "code",
   "execution_count": 17,
   "metadata": {},
   "outputs": [
    {
     "name": "stdout",
     "output_type": "stream",
     "text": [
      "True\n"
     ]
    }
   ],
   "source": [
    "import re\n",
    "pat = re.compile('^a.*[xz]$')\n",
    "s='abbdfz'\n",
    "\n",
    "if pat.match( s ):\n",
    "    print(True)\n",
    "else:\n",
    "    print(False)"
   ]
  },
  {
   "cell_type": "code",
   "execution_count": 25,
   "metadata": {
    "scrolled": true
   },
   "outputs": [
    {
     "name": "stdout",
     "output_type": "stream",
     "text": [
      "<re.Match object; span=(0, 14), match='791111-1234567'>\n",
      "791111\n"
     ]
    }
   ],
   "source": [
    "#eg.9-1\n",
    "\n",
    "import re\n",
    "\n",
    "text = '791111-1234567'\n",
    "\n",
    "regex= '(\\d{6})-([1-4]{1}\\d{6})'\n",
    "\n",
    "pattern = re.compile(regex)\n",
    "res = pattern.match(text)\n",
    "print(res)\n",
    "\n",
    "print(res.group(1))"
   ]
  },
  {
   "cell_type": "code",
   "execution_count": null,
   "metadata": {},
   "outputs": [],
   "source": [
    "import re\n",
    "text = '123-12-123456'\n",
    "regex = '1{1}\\d{2}-1{1}\\d{1}-\\d{6}'\n",
    "pattern = re.compile(regex)\n",
    "res = pattern.match(text)\n",
    "\n",
    "print(res)"
   ]
  },
  {
   "cell_type": "code",
   "execution_count": 31,
   "metadata": {},
   "outputs": [
    {
     "name": "stdout",
     "output_type": "stream",
     "text": [
      "<re.Match object; span=(0, 41), match='안녕하세요. 저는 OOO에서 태어났고... 열심히 하겠습니다. 감사합니다.'>\n"
     ]
    }
   ],
   "source": [
    "import re\n",
    "text = '안녕하세요. 저는 OOO에서 태어났고... 열심히 하겠습니다. 감사합니다.'\n",
    "regex = '^안녕하세요[.].*열심히.*감사합니다[.]$'\n",
    "pattern = re.compile(regex)\n",
    "res = pattern.match(text)\n",
    "print(res)"
   ]
  },
  {
   "cell_type": "code",
   "execution_count": 34,
   "metadata": {
    "scrolled": true
   },
   "outputs": [
    {
     "name": "stdout",
     "output_type": "stream",
     "text": [
      "꼬렙\n",
      "1234\n"
     ]
    }
   ],
   "source": [
    "import re\n",
    "\n",
    "text = '이름:꼬렙, 전화번호:1234'\n",
    "\n",
    "# \\w는 모든문자. 주의, 띄어쓰기는 포함안됨!\n",
    "regex = '이름:(\\w+), 전화번호:(\\d+)'  \n",
    "pattern = re.compile(regex)\n",
    "res = pattern.match(text)\n",
    "\n",
    "print(res.group(1))\n",
    "print(res.group(2))"
   ]
  },
  {
   "cell_type": "code",
   "execution_count": 35,
   "metadata": {},
   "outputs": [
    {
     "name": "stdout",
     "output_type": "stream",
     "text": [
      "<re.Match object; span=(0, 8), match='12ab1234'>\n"
     ]
    }
   ],
   "source": [
    "import re\n",
    "text = '12ab1234'\n",
    "regex = '\\d{2}[a-z]{2}[0-9]{4}'\n",
    "pattern = re.compile(regex)\n",
    "res = pattern.match(text)\n",
    "print(res)"
   ]
  },
  {
   "cell_type": "code",
   "execution_count": 47,
   "metadata": {},
   "outputs": [
    {
     "name": "stdout",
     "output_type": "stream",
     "text": [
      "None\n"
     ]
    }
   ],
   "source": [
    "import re\n",
    "text = 'abcd1234'\n",
    "regex = '^[a-zA-Z0-9]*$'\n",
    "pattern = re.compile(regex)\n",
    "res = pattern.match(text)\n",
    "\n",
    "print(res)"
   ]
  },
  {
   "cell_type": "code",
   "execution_count": 65,
   "metadata": {},
   "outputs": [
    {
     "name": "stdout",
     "output_type": "stream",
     "text": [
      "100-99-23242324\n"
     ]
    }
   ],
   "source": [
    "import re\n",
    "text = '대표자 : 꼬렙 사업자등록번호 : 100-99-23242324 대표전화 : 051-1234-5678'\n",
    "regex = '(\\d{3}-\\d{2}-\\d{8})'\n",
    "pattern = re.compile(regex)\n",
    "res = pattern.search(text)\n",
    "print(res.group())"
   ]
  },
  {
   "cell_type": "code",
   "execution_count": 63,
   "metadata": {},
   "outputs": [
    {
     "name": "stdout",
     "output_type": "stream",
     "text": [
      "051-1234-5678\n"
     ]
    }
   ],
   "source": [
    "import re\n",
    "\n",
    "text = '대표자 : 꼬렙 사업자등록번호 : 100-99-23242324 대표전화 : 051-1234-5678'\n",
    "regex = '(\\d{2,3}-\\d{4}-\\d{4})'\n",
    "pattern = re.compile(regex)\n",
    "res = pattern.search(text)\n",
    "\n",
    "print(res.group())"
   ]
  },
  {
   "cell_type": "code",
   "execution_count": 66,
   "metadata": {},
   "outputs": [
    {
     "name": "stdout",
     "output_type": "stream",
     "text": [
      "['서울', '강남', '맛집', '주꾸미']\n"
     ]
    }
   ],
   "source": [
    "import re\n",
    "\n",
    "text = '#서울, #강남, #맛집, #주꾸미'\n",
    "regex = '#(\\w+)'\n",
    "#regex = '#(\\w+),*\\s*'\n",
    "pattern = re.compile(regex)\n",
    "res = pattern.findall(text)\n",
    "\n",
    "print(res)"
   ]
  },
  {
   "cell_type": "code",
   "execution_count": 68,
   "metadata": {},
   "outputs": [
    {
     "name": "stdout",
     "output_type": "stream",
     "text": [
      "<re.Match object; span=(3, 10), match='a@a.com'>\n",
      "<re.Match object; span=(25, 32), match='c@c.net'>\n"
     ]
    }
   ],
   "source": [
    "#가로를 사용하여 | (or)연산\n",
    "#이때는 finditer을 사용함\n",
    "#findall은 가로안의 것만 가져오기 때문에 같이 사용할 수 없음\n",
    "\n",
    "import re\n",
    "\n",
    "text = '1번 a@a.com 2번 b@b.org 3번 c@c.net'\n",
    "regex = '\\w+@\\w+[.](com|net)'\n",
    "\n",
    "pattern = re.compile(regex)\n",
    "res=pattern.finditer(text)\n",
    "\n",
    "for it in res:\n",
    "    print(it)"
   ]
  },
  {
   "cell_type": "code",
   "execution_count": 91,
   "metadata": {},
   "outputs": [
    {
     "name": "stdout",
     "output_type": "stream",
     "text": [
      "010-****-8181\n"
     ]
    }
   ],
   "source": [
    "import re\n",
    "\n",
    "text = '010-8478-8181'\n",
    "regex = '(\\d{3})-\\d{4}-(\\d{4})'\n",
    "pattern = re.compile(regex)\n",
    "change = '\\g<1>-****-\\g<2>'\n",
    "res = pattern.sub(change, text)\n",
    "print(res)"
   ]
  },
  {
   "cell_type": "code",
   "execution_count": 92,
   "metadata": {},
   "outputs": [
    {
     "name": "stdout",
     "output_type": "stream",
     "text": [
      "ggoreb@*****.com\n",
      "seorab@*****.com\n",
      "human@*****.com\n"
     ]
    }
   ],
   "source": [
    "import re\n",
    "user_list = ['ggoreb@naver.com', 'seorab@gmail.com', 'human@ggoreb.com']\n",
    "regex = '(\\w+@)\\w+([.]com)'\n",
    "pattern = re.compile(regex)\n",
    "change = '\\g<1>*****\\g<2>'\n",
    "for user in user_list:\n",
    " res = pattern.sub(change, user)\n",
    " print(res)"
   ]
  },
  {
   "cell_type": "code",
   "execution_count": 95,
   "metadata": {},
   "outputs": [],
   "source": [
    "#정규식을 사용해서 로또번호 크롤링하기\n",
    "\n",
    "import requests\n",
    "result = requests.get('https://dhlottery.co.kr/gameResult.do?method=byWin&drwNo=893')\n",
    "result.encoding=None"
   ]
  },
  {
   "cell_type": "code",
   "execution_count": 100,
   "metadata": {},
   "outputs": [
    {
     "data": {
      "text/plain": [
       "['1', '15', '17', '23', '25', '41', '10']"
      ]
     },
     "execution_count": 100,
     "metadata": {},
     "output_type": "execute_result"
    }
   ],
   "source": [
    "import re\n",
    "\n",
    "pat= re.compile('lrg\\s+ball.+>(\\d+)</span>')\n",
    "pat.findall(result.text)"
   ]
  },
  {
   "cell_type": "code",
   "execution_count": null,
   "metadata": {},
   "outputs": [],
   "source": []
  }
 ],
 "metadata": {
  "kernelspec": {
   "display_name": "Python 3",
   "language": "python",
   "name": "python3"
  },
  "language_info": {
   "codemirror_mode": {
    "name": "ipython",
    "version": 3
   },
   "file_extension": ".py",
   "mimetype": "text/x-python",
   "name": "python",
   "nbconvert_exporter": "python",
   "pygments_lexer": "ipython3",
   "version": "3.7.4"
  }
 },
 "nbformat": 4,
 "nbformat_minor": 2
}
