{
 "cells": [
  {
   "cell_type": "code",
   "execution_count": 3,
   "metadata": {},
   "outputs": [
    {
     "name": "stdout",
     "output_type": "stream",
     "text": [
      "졸업\n"
     ]
    }
   ],
   "source": [
    "subjectList = ['운영체제', '데이터베이스', '객체지향언어'] # 수강한 과목 리스트\n",
    "average = 60 # 평점\n",
    "\n",
    "if len(subjectList) >=3 and average>=70:\n",
    "    print(\"학위취득\")\n",
    "elif len(subjectList) >=3 or average>=70: \n",
    "    print(\"졸업\")\n",
    "else:\n",
    "    print(\"재수강\")"
   ]
  },
  {
   "cell_type": "code",
   "execution_count": 4,
   "metadata": {},
   "outputs": [
    {
     "name": "stdout",
     "output_type": "stream",
     "text": [
      "이수완료\n"
     ]
    }
   ],
   "source": [
    "subject = {'자료구조' : 80, '알고리즘' : 60, '네트워크' : 90}\n",
    "if '자료구조' in subject:\n",
    "    s= subject['자료구조']\n",
    "    if s >=60:\n",
    "        print('이수완료')"
   ]
  },
  {
   "cell_type": "code",
   "execution_count": 5,
   "metadata": {},
   "outputs": [
    {
     "name": "stdout",
     "output_type": "stream",
     "text": [
      "짝수\n"
     ]
    }
   ],
   "source": [
    "num = 122\n",
    "if num%2==0:\n",
    "    print(\"짝수\")\n",
    "else:\n",
    "    print(\"홀수\")"
   ]
  },
  {
   "cell_type": "code",
   "execution_count": 6,
   "metadata": {},
   "outputs": [
    {
     "name": "stdout",
     "output_type": "stream",
     "text": [
      "쿵짝\n"
     ]
    }
   ],
   "source": [
    "score=6\n",
    "\n",
    "if score%2==0 and score%3==0:\n",
    "    print(\"쿵짝\")\n",
    "elif score%2==0:\n",
    "    print(\"짝\")\n",
    "elif score%3==0:\n",
    "    print(\"쿵\")"
   ]
  },
  {
   "cell_type": "code",
   "execution_count": 10,
   "metadata": {},
   "outputs": [
    {
     "name": "stdout",
     "output_type": "stream",
     "text": [
      "추출된 숫자: 1\n",
      "추출된 숫자: 3\n",
      "추출된 숫자: 3\n",
      "추출된 숫자: 1\n",
      "추출된 숫자: 2\n"
     ]
    }
   ],
   "source": [
    "import random\n",
    "while True:\n",
    "    number=random.randint(1, 3)  #randint는 뒷자리 포함\n",
    "    print('추출된 숫자: %d' % number)\n",
    "    if number==2:\n",
    "        break"
   ]
  },
  {
   "cell_type": "code",
   "execution_count": 12,
   "metadata": {},
   "outputs": [
    {
     "name": "stdout",
     "output_type": "stream",
     "text": [
      "500500\n"
     ]
    }
   ],
   "source": [
    "num = 1\n",
    "total = 0\n",
    "while num<=1000:\n",
    "    total=total+num\n",
    "    num+=1\n",
    "\n",
    "print(total)"
   ]
  },
  {
   "cell_type": "code",
   "execution_count": 13,
   "metadata": {},
   "outputs": [
    {
     "name": "stdout",
     "output_type": "stream",
     "text": [
      "166833\n"
     ]
    }
   ],
   "source": [
    "num=1\n",
    "total=0\n",
    "\n",
    "while num<=1000:\n",
    "    if num%3==0:\n",
    "        total=total+num\n",
    "    num+=1\n",
    "    \n",
    "print(total)"
   ]
  },
  {
   "cell_type": "code",
   "execution_count": 14,
   "metadata": {},
   "outputs": [
    {
     "name": "stdout",
     "output_type": "stream",
     "text": [
      "481\n"
     ]
    }
   ],
   "source": [
    "scoreList = [20, 55, 67, 82, 45, 33, 90, 87, 100, 25]\n",
    "total = 0\n",
    "for score in scoreList:\n",
    "    if score >= 50:\n",
    "        total +=score\n",
    "print(total)"
   ]
  },
  {
   "cell_type": "code",
   "execution_count": 15,
   "metadata": {},
   "outputs": [
    {
     "name": "stdout",
     "output_type": "stream",
     "text": [
      "481\n"
     ]
    }
   ],
   "source": [
    "scoreList = [20, 55, 67, 82, 45, 33, 90, 87, 100, 25]\n",
    "total = 0\n",
    "\n",
    "while scoreList:\n",
    "    score=scoreList.pop()\n",
    "    if score >= 50:\n",
    "        total +=score\n",
    "print(total)"
   ]
  },
  {
   "cell_type": "code",
   "execution_count": 16,
   "metadata": {},
   "outputs": [
    {
     "name": "stdout",
     "output_type": "stream",
     "text": [
      "359\n"
     ]
    }
   ],
   "source": [
    "studentInfo = {\n",
    " 'a':33, 'b':55, 'c':67, 'd':82, 'e':45,\n",
    " 'f':33, 'g':90, 'h':87, 'i': 100, 'j':25\n",
    "}\n",
    "total = 0\n",
    "\n",
    "scoreList= list(studentInfo.values())\n",
    "while scoreList:\n",
    "    score= scoreList.pop()\n",
    "    if score >= 80:\n",
    "        total +=score\n",
    "print(total)"
   ]
  },
  {
   "cell_type": "code",
   "execution_count": 20,
   "metadata": {},
   "outputs": [
    {
     "name": "stdout",
     "output_type": "stream",
     "text": [
      "2  /  4\n",
      "6  /  1\n",
      "4  /  2\n",
      "1  /  5\n",
      "3  /  2\n",
      "6  /  6\n",
      "두 눈이 같으므로 종료\n"
     ]
    }
   ],
   "source": [
    "import random\n",
    "\n",
    "while True:\n",
    "    n1= random.randint(1,6)\n",
    "    n2= random.randint(1,6)\n",
    "    print(\"{0}  /  {1}\".format(n1,n2))\n",
    "    if n1==n2:\n",
    "        print(\"두 눈이 같으므로 종료\")\n",
    "        break"
   ]
  },
  {
   "cell_type": "code",
   "execution_count": 26,
   "metadata": {},
   "outputs": [
    {
     "name": "stdout",
     "output_type": "stream",
     "text": [
      "[31, 6, 37, 21, 24, 16]\n"
     ]
    }
   ],
   "source": [
    "import random\n",
    "\n",
    "lottoList = list()\n",
    "\n",
    "while len(lottoList)<6:\n",
    "    ran=random.randint(1,45)\n",
    "    if lottoList.count(ran)==0:\n",
    "        lottoList.append(ran)\n",
    "print(lottoList)"
   ]
  },
  {
   "cell_type": "code",
   "execution_count": 24,
   "metadata": {
    "scrolled": true
   },
   "outputs": [
    {
     "name": "stdout",
     "output_type": "stream",
     "text": [
      "*\n",
      "**\n",
      "***\n",
      "****\n",
      "*****\n"
     ]
    }
   ],
   "source": [
    "i = 1\n",
    "while i<6:\n",
    "    print(\"*\"*i)\n",
    "    i+=1"
   ]
  },
  {
   "cell_type": "code",
   "execution_count": 25,
   "metadata": {},
   "outputs": [
    {
     "name": "stdout",
     "output_type": "stream",
     "text": [
      "    *\n",
      "   **\n",
      "  ***\n",
      " ****\n",
      "*****\n"
     ]
    }
   ],
   "source": [
    "i=1\n",
    "space=4\n",
    "\n",
    "while i<6:\n",
    "    print(\" \"*space + \"*\"*i)\n",
    "    space-=1\n",
    "    i+=1"
   ]
  },
  {
   "cell_type": "code",
   "execution_count": 27,
   "metadata": {},
   "outputs": [
    {
     "name": "stdout",
     "output_type": "stream",
     "text": [
      "0 2 4 6 8 "
     ]
    }
   ],
   "source": [
    "for i in range(0,10, 2):\n",
    "    print (i, end= \" \")    "
   ]
  },
  {
   "cell_type": "code",
   "execution_count": 30,
   "metadata": {},
   "outputs": [
    {
     "data": {
      "text/plain": [
       "[6, 12, 18]"
      ]
     },
     "execution_count": 30,
     "metadata": {},
     "output_type": "execute_result"
    }
   ],
   "source": [
    "data= list(range(1,10))\n",
    "result= [ x*2 for x in data if x%3==0]\n",
    "result"
   ]
  },
  {
   "cell_type": "code",
   "execution_count": 35,
   "metadata": {
    "scrolled": true
   },
   "outputs": [
    {
     "name": "stdout",
     "output_type": "stream",
     "text": [
      "3\n",
      "13\n",
      "23\n",
      "30\n",
      "31\n",
      "32\n",
      "33\n",
      "34\n",
      "35\n",
      "36\n",
      "37\n",
      "38\n",
      "39\n",
      "43\n",
      "53\n",
      "63\n",
      "73\n",
      "83\n",
      "93\n"
     ]
    }
   ],
   "source": [
    "count=0\n",
    "\n",
    "for num in range(1,101):\n",
    "    s= str(num)\n",
    "    if '3' in s:\n",
    "        count+=1\n",
    "        print(s)"
   ]
  },
  {
   "cell_type": "code",
   "execution_count": 61,
   "metadata": {},
   "outputs": [
    {
     "name": "stdout",
     "output_type": "stream",
     "text": [
      "[10, 20, 40, 50, 70]\n"
     ]
    }
   ],
   "source": [
    "list0 = [10, 20, 30, 40, 50, 60, 70]\n",
    "\n",
    "i=0\n",
    "while i<len(list0):\n",
    "    if list0[i]%3==0:\n",
    "        list0.pop(i)\n",
    "    i+=1\n",
    "print(list0)"
   ]
  },
  {
   "cell_type": "code",
   "execution_count": 60,
   "metadata": {},
   "outputs": [
    {
     "name": "stdout",
     "output_type": "stream",
     "text": [
      "[10, 20, 40, 50, 70]\n"
     ]
    }
   ],
   "source": [
    "list1 = [10, 20, 30, 40, 50, 60, 70]\n",
    "\n",
    "#삭제할때는 역순으로 해야함\n",
    "for i in reversed(range(len(list1))):\n",
    "    if list1[i]%3==0:\n",
    "        list1.pop(i)\n",
    "    \n",
    "print(list1)"
   ]
  },
  {
   "cell_type": "code",
   "execution_count": 62,
   "metadata": {},
   "outputs": [
    {
     "ename": "IndexError",
     "evalue": "list index out of range",
     "output_type": "error",
     "traceback": [
      "\u001b[1;31m---------------------------------------------------------------------------\u001b[0m",
      "\u001b[1;31mIndexError\u001b[0m                                Traceback (most recent call last)",
      "\u001b[1;32m<ipython-input-62-e1cdde6ba801>\u001b[0m in \u001b[0;36m<module>\u001b[1;34m\u001b[0m\n\u001b[0;32m      3\u001b[0m \u001b[1;31m#3의 배수 요소 삭제\u001b[0m\u001b[1;33m\u001b[0m\u001b[1;33m\u001b[0m\u001b[1;33m\u001b[0m\u001b[0m\n\u001b[0;32m      4\u001b[0m \u001b[1;32mfor\u001b[0m \u001b[0mi\u001b[0m \u001b[1;32min\u001b[0m \u001b[0mrange\u001b[0m\u001b[1;33m(\u001b[0m\u001b[0mlen\u001b[0m\u001b[1;33m(\u001b[0m\u001b[0mlist1\u001b[0m\u001b[1;33m)\u001b[0m\u001b[1;33m)\u001b[0m\u001b[1;33m:\u001b[0m\u001b[1;33m\u001b[0m\u001b[1;33m\u001b[0m\u001b[0m\n\u001b[1;32m----> 5\u001b[1;33m     \u001b[1;32mif\u001b[0m \u001b[0mlist1\u001b[0m\u001b[1;33m[\u001b[0m\u001b[0mi\u001b[0m\u001b[1;33m]\u001b[0m\u001b[1;33m%\u001b[0m\u001b[1;36m3\u001b[0m\u001b[1;33m==\u001b[0m\u001b[1;36m0\u001b[0m\u001b[1;33m:\u001b[0m\u001b[1;33m\u001b[0m\u001b[1;33m\u001b[0m\u001b[0m\n\u001b[0m\u001b[0;32m      6\u001b[0m         \u001b[0mlist1\u001b[0m\u001b[1;33m.\u001b[0m\u001b[0mpop\u001b[0m\u001b[1;33m(\u001b[0m\u001b[0mi\u001b[0m\u001b[1;33m)\u001b[0m\u001b[1;33m\u001b[0m\u001b[1;33m\u001b[0m\u001b[0m\n\u001b[0;32m      7\u001b[0m \u001b[1;33m\u001b[0m\u001b[0m\n",
      "\u001b[1;31mIndexError\u001b[0m: list index out of range"
     ]
    }
   ],
   "source": [
    "list1 = [10, 20, 30, 40, 50, 60, 70]\n",
    "\n",
    "#3의 배수 요소 삭제\n",
    "for i in range(len(list1)):\n",
    "    if list1[i]%3==0:\n",
    "        list1.pop(i)\n",
    "    \n",
    "print(list1)"
   ]
  },
  {
   "cell_type": "code",
   "execution_count": 63,
   "metadata": {},
   "outputs": [
    {
     "name": "stdout",
     "output_type": "stream",
     "text": [
      "False\n",
      "True\n"
     ]
    }
   ],
   "source": [
    "def isOdd(num):\n",
    "    return num%2 !=0\n",
    "\n",
    "print(isOdd(2))\n",
    "print(isOdd(3))"
   ]
  },
  {
   "cell_type": "code",
   "execution_count": 74,
   "metadata": {},
   "outputs": [
    {
     "name": "stdout",
     "output_type": "stream",
     "text": [
      "8\n",
      "2\n"
     ]
    }
   ],
   "source": [
    "def plus(num1,num2):\n",
    "    return num1+num2\n",
    "\n",
    "def minus(num1,num2):\n",
    "    if num2 > num1:\n",
    "        num1. num2= num2. num1\n",
    "    return num1-num2\n",
    "\n",
    "result1 = plus(5, 3)\n",
    "result2 = minus(5, 3)\n",
    "\n",
    "print(result1)\n",
    "print(result2)"
   ]
  },
  {
   "cell_type": "code",
   "execution_count": 77,
   "metadata": {},
   "outputs": [
    {
     "name": "stdout",
     "output_type": "stream",
     "text": [
      "11\n",
      "66\n"
     ]
    }
   ],
   "source": [
    "def rangeSum(num):\n",
    "    total=0\n",
    "    for i in range(num+1):\n",
    "        total+=i\n",
    "    \n",
    "    return total\n",
    "n=int(input()) #문자열\n",
    "print(rangeSum(n))"
   ]
  },
  {
   "cell_type": "code",
   "execution_count": 71,
   "metadata": {
    "scrolled": false
   },
   "outputs": [
    {
     "name": "stdout",
     "output_type": "stream",
     "text": [
      "(30, 7.5)\n"
     ]
    }
   ],
   "source": [
    "def calculator(li):\n",
    "    sum=0\n",
    "    m=0\n",
    "    for i in li:\n",
    "        sum+=i\n",
    "    m=sum/len(li)\n",
    "    return sum, m\n",
    "\n",
    "result = calculator([3, 7, 9, 11])\n",
    "print(result)"
   ]
  },
  {
   "cell_type": "code",
   "execution_count": 83,
   "metadata": {},
   "outputs": [
    {
     "data": {
      "text/plain": [
       "[20, 40, 60, 80]"
      ]
     },
     "execution_count": 83,
     "metadata": {},
     "output_type": "execute_result"
    }
   ],
   "source": [
    "list = [10, 20, 30, 40]\n",
    "func=lambda num: num*2\n",
    "func(list[2])\n",
    "list2 = [ func(i) for i in list ]\n",
    "list2"
   ]
  },
  {
   "cell_type": "markdown",
   "metadata": {},
   "source": [
    "### 연습문제"
   ]
  },
  {
   "cell_type": "code",
   "execution_count": 85,
   "metadata": {
    "scrolled": true
   },
   "outputs": [
    {
     "name": "stdout",
     "output_type": "stream",
     "text": [
      "6\n",
      "38\n"
     ]
    }
   ],
   "source": [
    "def diff_sum(n1,n2,n3):\n",
    "    sum = n1+n2+n3\n",
    "    squ = n1**2 + n2**2 + n3**2\n",
    "    print(squ-sum)\n",
    "\n",
    "diff_sum(2, 2, 2) \n",
    "diff_sum(3, 4, 5) "
   ]
  },
  {
   "cell_type": "code",
   "execution_count": 124,
   "metadata": {},
   "outputs": [
    {
     "name": "stdout",
     "output_type": "stream",
     "text": [
      "4\n",
      "10\n"
     ]
    }
   ],
   "source": [
    "def get_sequence(n):\n",
    "    total=0\n",
    "    m=1\n",
    "    while m<=n:\n",
    "        for m_i in range(m+1):\n",
    "            total=total+m_i\n",
    "        m+=1\n",
    "    return total\n",
    "\n",
    "print(get_sequence(2))\n",
    "print(get_sequence(3))"
   ]
  },
  {
   "cell_type": "code",
   "execution_count": 134,
   "metadata": {},
   "outputs": [
    {
     "name": "stdout",
     "output_type": "stream",
     "text": [
      "th\n",
      "k\n"
     ]
    }
   ],
   "source": [
    "def get_mid_char(str):\n",
    "    while len(str)>2:\n",
    "        str=str[1:-1]\n",
    "    return str\n",
    "            \n",
    "print(get_mid_char('python'))        \n",
    "print(get_mid_char('functiokjkjkjns')) "
   ]
  },
  {
   "cell_type": "code",
   "execution_count": 120,
   "metadata": {
    "scrolled": true
   },
   "outputs": [
    {
     "name": "stdout",
     "output_type": "stream",
     "text": [
      "수박수\n",
      "수박수박수박수박수박수\n"
     ]
    }
   ],
   "source": [
    "def print_str(n):\n",
    "    str=''\n",
    "    for i in range(1,n+1):\n",
    "        if i%2==0:\n",
    "            str+=\"박\"\n",
    "        else:\n",
    "            str+=\"수\"\n",
    "    return str\n",
    "print(print_str(3))\n",
    "print(print_str(11))"
   ]
  },
  {
   "cell_type": "code",
   "execution_count": 121,
   "metadata": {},
   "outputs": [
    {
     "name": "stdout",
     "output_type": "stream",
     "text": [
      "7\n",
      "25\n"
     ]
    }
   ],
   "source": [
    "def get_total(num):\n",
    "    total=0\n",
    "    while num:\n",
    "        n1= num%10\n",
    "        num=num//10\n",
    "        total+=n1\n",
    "    return total\n",
    "print(get_total(124))    \n",
    "print(get_total(13579))    "
   ]
  },
  {
   "cell_type": "code",
   "execution_count": 131,
   "metadata": {
    "scrolled": true
   },
   "outputs": [
    {
     "name": "stdout",
     "output_type": "stream",
     "text": [
      "3\n",
      "6\n",
      "9\n"
     ]
    }
   ],
   "source": [
    "result = 'Pass' if  score >= 60  else  'Fail'"
   ]
  },
  {
   "cell_type": "code",
   "execution_count": null,
   "metadata": {},
   "outputs": [],
   "source": [
    "if i in range(1,101,2)\n",
    "    print(i)"
   ]
  },
  {
   "cell_type": "code",
   "execution_count": 133,
   "metadata": {},
   "outputs": [
    {
     "name": "stdout",
     "output_type": "stream",
     "text": [
      "[6, 12]\n"
     ]
    }
   ],
   "source": [
    "list0 = [1, 2, 3, 4] \n",
    "\n",
    "result = [n * 3 for n in list0 if n % 2 == 0] \n",
    "\n",
    "print(result)"
   ]
  },
  {
   "cell_type": "code",
   "execution_count": 137,
   "metadata": {},
   "outputs": [
    {
     "name": "stdout",
     "output_type": "stream",
     "text": [
      "1234\n"
     ]
    }
   ],
   "source": [
    "text=\"\"\n",
    "\n",
    "def str_adder(*args):\n",
    "    global text\n",
    "    for i in args:\n",
    "        text += i\n",
    "str_adder('1', '2', '3', '4') \n",
    "print(text)"
   ]
  },
  {
   "cell_type": "code",
   "execution_count": 138,
   "metadata": {},
   "outputs": [
    {
     "name": "stdout",
     "output_type": "stream",
     "text": [
      "[6, 7, 8]\n"
     ]
    }
   ],
   "source": [
    "def myfunc(numbers):\n",
    "    result = []\n",
    "    for number in numbers:\n",
    "        if number > 5:\n",
    "            result.append(number)\n",
    "    return result\n",
    "\n",
    "result = myfunc([2, 3, 4, 5, 6, 7, 8])\n",
    "print(result)"
   ]
  },
  {
   "cell_type": "code",
   "execution_count": 143,
   "metadata": {},
   "outputs": [
    {
     "name": "stdout",
     "output_type": "stream",
     "text": [
      "[6, 7, 8]\n"
     ]
    }
   ],
   "source": [
    "myfunc=lambda numbers : [ i for i in numbers if i>5 ]\n",
    "\n",
    "result = myfunc([2, 3, 4, 5, 6, 7, 8])\n",
    "print(result)"
   ]
  },
  {
   "cell_type": "code",
   "execution_count": 147,
   "metadata": {},
   "outputs": [
    {
     "data": {
      "text/plain": [
       "range(0, 3)"
      ]
     },
     "execution_count": 147,
     "metadata": {},
     "output_type": "execute_result"
    }
   ],
   "source": [
    "func1 = lambda n: range(n)\n",
    "func1(3)"
   ]
  },
  {
   "cell_type": "code",
   "execution_count": 154,
   "metadata": {},
   "outputs": [
    {
     "name": "stdout",
     "output_type": "stream",
     "text": [
      "12AB가나★○\n"
     ]
    }
   ],
   "source": [
    "f=open('c:/dev/text.txt', 'rt',encoding='UTF-8')\n",
    "print(f.read())\n",
    "f.close()"
   ]
  },
  {
   "cell_type": "code",
   "execution_count": 168,
   "metadata": {},
   "outputs": [
    {
     "name": "stdout",
     "output_type": "stream",
     "text": [
      "7\n",
      "9\n",
      "24\n",
      "29\n",
      "34\n",
      "38\n",
      "['7', '9', '24', '29', '34', '38']\n",
      "141\n"
     ]
    }
   ],
   "source": [
    "f=open('c:/dev/numbers_data.txt','rt',encoding='UTF-8')\n",
    "numbers=f.read()\n",
    "print(numbers)\n",
    "numList=numbers.split('\\n')\n",
    "print(numList)\n",
    "\n",
    "total=0\n",
    "for num in numList:\n",
    "    total+=int(num)\n",
    "print(total)"
   ]
  },
  {
   "cell_type": "code",
   "execution_count": 165,
   "metadata": {
    "scrolled": true
   },
   "outputs": [
    {
     "name": "stdout",
     "output_type": "stream",
     "text": [
      "['python', 'java', 'c++', 'go', 'kotlin', 'fortran']\n",
      "python\n",
      "kotlin\n",
      "fortran\n"
     ]
    }
   ],
   "source": [
    "f=open('c:/dev/text_data.txt','rt',encoding='UTF-8')\n",
    "text=f.read()\n",
    "strList=text.split('\\n')\n",
    "print(strList)\n",
    "for str in strList:\n",
    "    if str.count('t')>0:\n",
    "        print(str)"
   ]
  },
  {
   "cell_type": "code",
   "execution_count": null,
   "metadata": {},
   "outputs": [],
   "source": [
    "def sum(*args):\n",
    "    \n"
   ]
  },
  {
   "cell_type": "code",
   "execution_count": null,
   "metadata": {},
   "outputs": [],
   "source": []
  }
 ],
 "metadata": {
  "kernelspec": {
   "display_name": "Python 3",
   "language": "python",
   "name": "python3"
  },
  "language_info": {
   "codemirror_mode": {
    "name": "ipython",
    "version": 3
   },
   "file_extension": ".py",
   "mimetype": "text/x-python",
   "name": "python",
   "nbconvert_exporter": "python",
   "pygments_lexer": "ipython3",
   "version": "3.7.4"
  }
 },
 "nbformat": 4,
 "nbformat_minor": 2
}
