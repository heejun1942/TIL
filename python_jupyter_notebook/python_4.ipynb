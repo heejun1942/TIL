{
 "cells": [
  {
   "cell_type": "code",
   "execution_count": 1,
   "metadata": {},
   "outputs": [
    {
     "data": {
      "text/plain": [
       "1"
      ]
     },
     "execution_count": 1,
     "metadata": {},
     "output_type": "execute_result"
    }
   ],
   "source": [
    "import random\n",
    "\n",
    "random.randint(1,3)"
   ]
  },
  {
   "cell_type": "code",
   "execution_count": 4,
   "metadata": {},
   "outputs": [
    {
     "name": "stdout",
     "output_type": "stream",
     "text": [
      "파일이 존재하지 않습니다.\n"
     ]
    },
    {
     "ename": "NameError",
     "evalue": "name 'file' is not defined",
     "output_type": "error",
     "traceback": [
      "\u001b[1;31m---------------------------------------------------------------------------\u001b[0m",
      "\u001b[1;31mNameError\u001b[0m                                 Traceback (most recent call last)",
      "\u001b[1;32m<ipython-input-4-492b99535560>\u001b[0m in \u001b[0;36m<module>\u001b[1;34m\u001b[0m\n\u001b[0;32m      9\u001b[0m     \u001b[0mprint\u001b[0m\u001b[1;33m(\u001b[0m\u001b[1;34m'파일이 존재하지 않습니다.'\u001b[0m\u001b[1;33m)\u001b[0m\u001b[1;33m\u001b[0m\u001b[1;33m\u001b[0m\u001b[0m\n\u001b[0;32m     10\u001b[0m \u001b[1;32mfinally\u001b[0m\u001b[1;33m:\u001b[0m\u001b[1;33m\u001b[0m\u001b[1;33m\u001b[0m\u001b[0m\n\u001b[1;32m---> 11\u001b[1;33m     \u001b[0mfile\u001b[0m\u001b[1;33m.\u001b[0m\u001b[0mclose\u001b[0m\u001b[1;33m(\u001b[0m\u001b[1;33m)\u001b[0m\u001b[1;33m\u001b[0m\u001b[1;33m\u001b[0m\u001b[0m\n\u001b[0m",
      "\u001b[1;31mNameError\u001b[0m: name 'file' is not defined"
     ]
    }
   ],
   "source": [
    "# 오히려 file.close()에의해 오류발생.\n",
    "\n",
    "try:\n",
    "    file = open('c:/dev/106_02_python.txt', 'r')\n",
    "    text=file.read()\n",
    "    print(text)\n",
    "    \n",
    "except:\n",
    "    print('파일이 존재하지 않습니다.')\n",
    "finally:\n",
    "    file.close()"
   ]
  },
  {
   "cell_type": "code",
   "execution_count": 5,
   "metadata": {},
   "outputs": [
    {
     "name": "stdout",
     "output_type": "stream",
     "text": [
      "[Errno 2] No such file or directory: 'c:/dev/106_02_python.txt'\n"
     ]
    }
   ],
   "source": [
    "try:\n",
    "    file = open('c:/dev/106_02_python.txt')\n",
    "    text=file.read()\n",
    "    print(text)\n",
    "    file.close()\n",
    "# 오류는 로그로 보관해야함\n",
    "except FileNotFoundError as e:\n",
    "    print(e)\n"
   ]
  },
  {
   "cell_type": "code",
   "execution_count": 6,
   "metadata": {},
   "outputs": [
    {
     "data": {
      "text/plain": [
       "['ArithmeticError',\n",
       " 'AssertionError',\n",
       " 'AttributeError',\n",
       " 'BaseException',\n",
       " 'BlockingIOError',\n",
       " 'BrokenPipeError',\n",
       " 'BufferError',\n",
       " 'BytesWarning',\n",
       " 'ChildProcessError',\n",
       " 'ConnectionAbortedError',\n",
       " 'ConnectionError',\n",
       " 'ConnectionRefusedError',\n",
       " 'ConnectionResetError',\n",
       " 'DeprecationWarning',\n",
       " 'EOFError',\n",
       " 'Ellipsis',\n",
       " 'EnvironmentError',\n",
       " 'Exception',\n",
       " 'False',\n",
       " 'FileExistsError',\n",
       " 'FileNotFoundError',\n",
       " 'FloatingPointError',\n",
       " 'FutureWarning',\n",
       " 'GeneratorExit',\n",
       " 'IOError',\n",
       " 'ImportError',\n",
       " 'ImportWarning',\n",
       " 'IndentationError',\n",
       " 'IndexError',\n",
       " 'InterruptedError',\n",
       " 'IsADirectoryError',\n",
       " 'KeyError',\n",
       " 'KeyboardInterrupt',\n",
       " 'LookupError',\n",
       " 'MemoryError',\n",
       " 'ModuleNotFoundError',\n",
       " 'NameError',\n",
       " 'None',\n",
       " 'NotADirectoryError',\n",
       " 'NotImplemented',\n",
       " 'NotImplementedError',\n",
       " 'OSError',\n",
       " 'OverflowError',\n",
       " 'PendingDeprecationWarning',\n",
       " 'PermissionError',\n",
       " 'ProcessLookupError',\n",
       " 'RecursionError',\n",
       " 'ReferenceError',\n",
       " 'ResourceWarning',\n",
       " 'RuntimeError',\n",
       " 'RuntimeWarning',\n",
       " 'StopAsyncIteration',\n",
       " 'StopIteration',\n",
       " 'SyntaxError',\n",
       " 'SyntaxWarning',\n",
       " 'SystemError',\n",
       " 'SystemExit',\n",
       " 'TabError',\n",
       " 'TimeoutError',\n",
       " 'True',\n",
       " 'TypeError',\n",
       " 'UnboundLocalError',\n",
       " 'UnicodeDecodeError',\n",
       " 'UnicodeEncodeError',\n",
       " 'UnicodeError',\n",
       " 'UnicodeTranslateError',\n",
       " 'UnicodeWarning',\n",
       " 'UserWarning',\n",
       " 'ValueError',\n",
       " 'Warning',\n",
       " 'WindowsError',\n",
       " 'ZeroDivisionError',\n",
       " '__IPYTHON__',\n",
       " '__build_class__',\n",
       " '__debug__',\n",
       " '__doc__',\n",
       " '__import__',\n",
       " '__loader__',\n",
       " '__name__',\n",
       " '__package__',\n",
       " '__spec__',\n",
       " 'abs',\n",
       " 'all',\n",
       " 'any',\n",
       " 'ascii',\n",
       " 'bin',\n",
       " 'bool',\n",
       " 'breakpoint',\n",
       " 'bytearray',\n",
       " 'bytes',\n",
       " 'callable',\n",
       " 'chr',\n",
       " 'classmethod',\n",
       " 'compile',\n",
       " 'complex',\n",
       " 'copyright',\n",
       " 'credits',\n",
       " 'delattr',\n",
       " 'dict',\n",
       " 'dir',\n",
       " 'display',\n",
       " 'divmod',\n",
       " 'enumerate',\n",
       " 'eval',\n",
       " 'exec',\n",
       " 'filter',\n",
       " 'float',\n",
       " 'format',\n",
       " 'frozenset',\n",
       " 'get_ipython',\n",
       " 'getattr',\n",
       " 'globals',\n",
       " 'hasattr',\n",
       " 'hash',\n",
       " 'help',\n",
       " 'hex',\n",
       " 'id',\n",
       " 'input',\n",
       " 'int',\n",
       " 'isinstance',\n",
       " 'issubclass',\n",
       " 'iter',\n",
       " 'len',\n",
       " 'license',\n",
       " 'list',\n",
       " 'locals',\n",
       " 'map',\n",
       " 'max',\n",
       " 'memoryview',\n",
       " 'min',\n",
       " 'next',\n",
       " 'object',\n",
       " 'oct',\n",
       " 'open',\n",
       " 'ord',\n",
       " 'pow',\n",
       " 'print',\n",
       " 'property',\n",
       " 'range',\n",
       " 'repr',\n",
       " 'reversed',\n",
       " 'round',\n",
       " 'set',\n",
       " 'setattr',\n",
       " 'slice',\n",
       " 'sorted',\n",
       " 'staticmethod',\n",
       " 'str',\n",
       " 'sum',\n",
       " 'super',\n",
       " 'tuple',\n",
       " 'type',\n",
       " 'vars',\n",
       " 'zip']"
      ]
     },
     "execution_count": 6,
     "metadata": {},
     "output_type": "execute_result"
    }
   ],
   "source": [
    "# 내장함수 알아보기\n",
    "\n",
    "dir(__builtins__)"
   ]
  },
  {
   "cell_type": "code",
   "execution_count": 9,
   "metadata": {},
   "outputs": [
    {
     "name": "stdout",
     "output_type": "stream",
     "text": [
      "dx: 4 dy: 2\n"
     ]
    }
   ],
   "source": [
    "def distance(start, end):\n",
    "    xd=abs(start[0]-end[0])\n",
    "    yd=abs(start[1]-end[1])\n",
    "    return xd,yd\n",
    "\n",
    "start = (1, 1)\n",
    "end = (5, 3)\n",
    "dx, dy = distance(start, end)\n",
    "print('dx:', dx, 'dy:', dy)"
   ]
  },
  {
   "cell_type": "code",
   "execution_count": 10,
   "metadata": {},
   "outputs": [
    {
     "name": "stdout",
     "output_type": "stream",
     "text": [
      "컴파일 언어가 아닌 것은?\n",
      "1. C 2. C# 3. Python 4. swift => 1\n",
      "컴퓨터 장치가 아닌 것은?\n",
      "1. HDD 2. SDD 3. RAM 4. CPU => 2\n",
      "파이썬의 자료형이 아닌 것은?\n",
      "1. str 2. tuple 3. list 4. Map => \n",
      "재입력\n"
     ]
    }
   ],
   "source": [
    "print('컴파일 언어가 아닌 것은?')\n",
    "answer1 = input('1. C 2. C# 3. Python 4. swift => ')\n",
    "\n",
    "print('컴퓨터 장치가 아닌 것은?')\n",
    "answer2 = input('1. HDD 2. SDD 3. RAM 4. CPU => ')\n",
    "\n",
    "print('파이썬의 자료형이 아닌 것은?')\n",
    "answer3 = input('1. str 2. tuple 3. list 4. Map => ')\n",
    "\n",
    "answer_list = list()\n",
    "answer_list.append(answer1)\n",
    "answer_list.append(answer2)\n",
    "answer_list.append(answer3)\n",
    "\n",
    "if all(answer_list):\n",
    "    print('제출 완료')\n",
    "else:\n",
    "    print(\"재입력\")"
   ]
  },
  {
   "cell_type": "markdown",
   "metadata": {},
   "source": [
    "### 내장함수"
   ]
  },
  {
   "cell_type": "code",
   "execution_count": 11,
   "metadata": {},
   "outputs": [
    {
     "name": "stdout",
     "output_type": "stream",
     "text": [
      "몫 7\n",
      "나머지 11\n"
     ]
    }
   ],
   "source": [
    "a = 123\n",
    "b = 16\n",
    "\n",
    "quotient, remainder=divmod(a,b)\n",
    "\n",
    "print('몫', quotient)\n",
    "print('나머지', remainder)"
   ]
  },
  {
   "cell_type": "code",
   "execution_count": 17,
   "metadata": {},
   "outputs": [
    {
     "name": "stdout",
     "output_type": "stream",
     "text": [
      "(0, 'a')\n",
      "(1, 'b')\n",
      "(2, 'c')\n",
      "(3, 'd')\n",
      "(4, 'e')\n",
      "(5, 'f')\n",
      "(6, 'g')\n",
      "{}\n"
     ]
    }
   ],
   "source": [
    "char_list = ['a', 'b', 'c', 'd', 'e', 'f', 'g']\n",
    "char_dict = {}\n",
    "\n",
    "for n in enumerate(char_list):\n",
    "    print(n)\n",
    "\n",
    "print(char_dict)"
   ]
  },
  {
   "cell_type": "code",
   "execution_count": 18,
   "metadata": {},
   "outputs": [
    {
     "name": "stdout",
     "output_type": "stream",
     "text": [
      "(0, 'a')\n",
      "(1, 'b')\n",
      "(2, 'c')\n",
      "(3, 'd')\n",
      "(4, 'e')\n",
      "(5, 'f')\n",
      "(6, 'g')\n",
      "{}\n"
     ]
    }
   ],
   "source": [
    "char_list = ['a', 'b', 'c', 'd', 'e', 'f', 'g']\n",
    "char_dict = {}\n",
    "\n",
    "for n in enumerate(char_list):\n",
    "    print(n)\n",
    "\n",
    "print(char_dict)"
   ]
  },
  {
   "cell_type": "code",
   "execution_count": 19,
   "metadata": {},
   "outputs": [
    {
     "name": "stdout",
     "output_type": "stream",
     "text": [
      "[2, 4, 6]\n"
     ]
    }
   ],
   "source": [
    "def even(n):\n",
    "    return n % 2 == 0\n",
    "print( list( filter( even, (1, 2, 3, 4, 5, 6) ) ) )"
   ]
  },
  {
   "cell_type": "code",
   "execution_count": 20,
   "metadata": {},
   "outputs": [
    {
     "name": "stdout",
     "output_type": "stream",
     "text": [
      "[2, 4, 6]\n"
     ]
    }
   ],
   "source": [
    "print( list( filter( lambda n:n%2==0, (1, 2, 3, 4, 5, 6) ) ) )"
   ]
  },
  {
   "cell_type": "code",
   "execution_count": 23,
   "metadata": {},
   "outputs": [
    {
     "name": "stdout",
     "output_type": "stream",
     "text": [
      "[1, 3, 8]\n"
     ]
    }
   ],
   "source": [
    "num_list = [1, -2, 3, -5, 8, -3]\n",
    "\n",
    "print(list(filter(lambda n:n>=0, num_list)))"
   ]
  },
  {
   "cell_type": "code",
   "execution_count": 24,
   "metadata": {},
   "outputs": [
    {
     "name": "stdout",
     "output_type": "stream",
     "text": [
      "[1, 2, 4, 5, 7, 8, 10, 11, 13, 14, 16, 17, 19, 20]\n"
     ]
    }
   ],
   "source": [
    "num_list = range(1, 21)\n",
    "print(list(filter(lambda n: n%3!=0, num_list)))"
   ]
  },
  {
   "cell_type": "code",
   "execution_count": 50,
   "metadata": {},
   "outputs": [
    {
     "name": "stdout",
     "output_type": "stream",
     "text": [
      "<filter object at 0x0000020C3D69FBC8>\n"
     ]
    }
   ],
   "source": [
    "num_list = range(1, 21)\n",
    "print(filter(lambda n: n%3!=0, num_list))"
   ]
  },
  {
   "cell_type": "code",
   "execution_count": 52,
   "metadata": {},
   "outputs": [
    {
     "name": "stdout",
     "output_type": "stream",
     "text": [
      "1\n",
      "2\n",
      "4\n",
      "5\n",
      "7\n",
      "8\n",
      "10\n",
      "11\n",
      "13\n",
      "14\n",
      "16\n",
      "17\n",
      "19\n",
      "20\n"
     ]
    }
   ],
   "source": [
    "num_list = range(1, 21)\n",
    "\n",
    "for i in filter(lambda n: n%3!=0, num_list):\n",
    "    print(i)"
   ]
  },
  {
   "cell_type": "code",
   "execution_count": 26,
   "metadata": {
    "scrolled": true
   },
   "outputs": [
    {
     "name": "stdout",
     "output_type": "stream",
     "text": [
      "0xbe 0x42 0xcd\n"
     ]
    }
   ],
   "source": [
    "red = 190\n",
    "green = 66\n",
    "blue = 205\n",
    "\n",
    "r=hex(red)\n",
    "g=hex(green)\n",
    "b=hex(blue)\n",
    "print(r, g, b)"
   ]
  },
  {
   "cell_type": "code",
   "execution_count": 27,
   "metadata": {},
   "outputs": [
    {
     "name": "stdout",
     "output_type": "stream",
     "text": [
      "HELLO\n",
      "GGOREB\n"
     ]
    }
   ],
   "source": [
    "hexa_string1 = '48 45 4C 4C 4F'\n",
    "hexa_string2 = '47 47 4F 52 45 42'\n",
    "\n",
    "def show_hex_to_ch(hexa_string):\n",
    "    hexa_list= hexa_string.split()\n",
    "    text=''\n",
    "    for n in hexa_list:\n",
    "        text+=chr(int(n,16))\n",
    "    print(text)\n",
    "\n",
    "show_hex_to_ch(hexa_string1)\n",
    "show_hex_to_ch(hexa_string2)"
   ]
  },
  {
   "cell_type": "code",
   "execution_count": 29,
   "metadata": {},
   "outputs": [
    {
     "name": "stdout",
     "output_type": "stream",
     "text": [
      "(1, 2)\n",
      "(0, 3)\n"
     ]
    }
   ],
   "source": [
    "print(divmod(5, 3))\n",
    "\n",
    "print(divmod(3, 5))"
   ]
  },
  {
   "cell_type": "code",
   "execution_count": 30,
   "metadata": {},
   "outputs": [
    {
     "name": "stdout",
     "output_type": "stream",
     "text": [
      "29.04\n"
     ]
    }
   ],
   "source": [
    "# isinstance(True, int)는 참임 > bool은 int의 자식임. \n",
    "\n",
    "values = [10, 'a', True, {}, [], -4, 23.24, (1,), -1.2]\n",
    "result = 0\n",
    "\n",
    "for value in values:\n",
    "    if not isinstance(value, bool) and isinstance(value,int) or isinstance(value,float):\n",
    "        result += value\n",
    "\n",
    "\n",
    "print(result) # 29.04"
   ]
  },
  {
   "cell_type": "code",
   "execution_count": 34,
   "metadata": {},
   "outputs": [
    {
     "name": "stdout",
     "output_type": "stream",
     "text": [
      "True\n"
     ]
    }
   ],
   "source": [
    "print(isinstance(1,float)) #False\n",
    "print(isinstance(True,float)) #False"
   ]
  },
  {
   "cell_type": "code",
   "execution_count": 35,
   "metadata": {},
   "outputs": [
    {
     "data": {
      "text/plain": [
       "[3, 6, 9, 12]"
      ]
     },
     "execution_count": 35,
     "metadata": {},
     "output_type": "execute_result"
    }
   ],
   "source": [
    "num_list = [1, 2, 3, 4]\n",
    "\n",
    "list(map(lambda n: n*3,num_list))"
   ]
  },
  {
   "cell_type": "code",
   "execution_count": 37,
   "metadata": {},
   "outputs": [
    {
     "data": {
      "text/plain": [
       "[1, 4, 27, 256]"
      ]
     },
     "execution_count": 37,
     "metadata": {},
     "output_type": "execute_result"
    }
   ],
   "source": [
    "num_list = [1, 2, 3, 4]\n",
    "\n",
    "list(map(lambda n: n**n,num_list))"
   ]
  },
  {
   "cell_type": "code",
   "execution_count": 41,
   "metadata": {
    "scrolled": true
   },
   "outputs": [
    {
     "name": "stdout",
     "output_type": "stream",
     "text": [
      "7 -8 9\n"
     ]
    }
   ],
   "source": [
    "num_list = [-8, 2, 7, 5, -3, 5, 0, 1]\n",
    "print(max(num_list),min(num_list),sum(num_list))\n"
   ]
  },
  {
   "cell_type": "code",
   "execution_count": 43,
   "metadata": {},
   "outputs": [
    {
     "name": "stdout",
     "output_type": "stream",
     "text": [
      "1048576\n"
     ]
    },
    {
     "data": {
      "text/plain": [
       "1048576"
      ]
     },
     "execution_count": 43,
     "metadata": {},
     "output_type": "execute_result"
    }
   ],
   "source": [
    "print(pow(2, 20)) # 1MB (≒ 1,000,000)\n",
    "2**20"
   ]
  },
  {
   "cell_type": "code",
   "execution_count": 46,
   "metadata": {},
   "outputs": [
    {
     "name": "stdout",
     "output_type": "stream",
     "text": [
      "65 83 67 73 73 32 84 65 66 76 69 80 89 84 72 79 78 "
     ]
    }
   ],
   "source": [
    "string1 = 'ASCII TABLE'\n",
    "string2 = 'PYTHON'\n",
    "def show_ch_to_ascii(string):\n",
    "    for ch in string:\n",
    "        print(ord(ch), end=\" \")\n",
    "    \n",
    "show_ch_to_ascii(string1)\n",
    "show_ch_to_ascii(string2)"
   ]
  },
  {
   "cell_type": "code",
   "execution_count": 48,
   "metadata": {},
   "outputs": [
    {
     "data": {
      "text/plain": [
       "[(1, 'a', '가'), (2, 'b', '나'), (3, 'c', '다'), (4, 'd', '라')]"
      ]
     },
     "execution_count": 48,
     "metadata": {},
     "output_type": "execute_result"
    }
   ],
   "source": [
    "list1 = [1, 2, 3, 4]\n",
    "list2 = ['a', 'b', 'c', 'd']\n",
    "list3 = ['가', '나', '다', '라']\n",
    "\n",
    "list(zip(list1,list2,list3))"
   ]
  },
  {
   "cell_type": "code",
   "execution_count": 53,
   "metadata": {},
   "outputs": [
    {
     "name": "stdout",
     "output_type": "stream",
     "text": [
      "['C:\\\\Users\\\\student', 'C:\\\\Users\\\\student\\\\Miniconda3\\\\python37.zip', 'C:\\\\Users\\\\student\\\\Miniconda3\\\\DLLs', 'C:\\\\Users\\\\student\\\\Miniconda3\\\\lib', 'C:\\\\Users\\\\student\\\\Miniconda3', '', 'C:\\\\Users\\\\student\\\\Miniconda3\\\\lib\\\\site-packages', 'C:\\\\Users\\\\student\\\\Miniconda3\\\\lib\\\\site-packages\\\\win32', 'C:\\\\Users\\\\student\\\\Miniconda3\\\\lib\\\\site-packages\\\\win32\\\\lib', 'C:\\\\Users\\\\student\\\\Miniconda3\\\\lib\\\\site-packages\\\\Pythonwin', 'C:\\\\Users\\\\student\\\\Miniconda3\\\\lib\\\\site-packages\\\\IPython\\\\extensions', 'C:\\\\Users\\\\student\\\\.ipython']\n"
     ]
    }
   ],
   "source": [
    "import sys\n",
    "print(sys.path)"
   ]
  },
  {
   "cell_type": "markdown",
   "metadata": {},
   "source": [
    "### 외장함수"
   ]
  },
  {
   "cell_type": "code",
   "execution_count": 54,
   "metadata": {},
   "outputs": [],
   "source": [
    "import pickle\n",
    "class NowData:\n",
    "    def __init__(self):\n",
    "        self.x = 0\n",
    "        self.y = 0\n",
    "    def move(self, x, y):\n",
    "        self.x = x\n",
    "        self.y = y\n",
    "    def get_location(self):\n",
    "        return self.x, self.y\n",
    "data = NowData()\n",
    "data.move(100, 200)\n",
    "\n",
    "file=open('data.bin','wb')\n",
    "pickle.dump(data, file)\n",
    "file.close()"
   ]
  },
  {
   "cell_type": "code",
   "execution_count": 55,
   "metadata": {},
   "outputs": [
    {
     "data": {
      "text/plain": [
       "(100, 200)"
      ]
     },
     "execution_count": 55,
     "metadata": {},
     "output_type": "execute_result"
    }
   ],
   "source": [
    "import pickle\n",
    "file=open('data.bin','rb')\n",
    "data=pickle.load(file)\n",
    "data.get_location()"
   ]
  },
  {
   "cell_type": "code",
   "execution_count": 56,
   "metadata": {},
   "outputs": [],
   "source": [
    "import os\n",
    "\n",
    "# 디렉토리 생성 \n",
    "os.mkdir('C:/Users/student/python_dir')\n",
    "os.mkdir('C:/Users/student/python_dir/a')\n",
    "os.mkdir('C:/Users/student/python_dir/b')\n",
    "\n",
    "#파일 생성\n",
    "file=open('C:/Users/student/python_dir/a/a.txt','w')\n",
    "file.close()\n",
    "file=open('C:/Users/student/python_dir/b/b.txt','w')\n",
    "file.close()"
   ]
  },
  {
   "cell_type": "code",
   "execution_count": 58,
   "metadata": {},
   "outputs": [
    {
     "name": "stdout",
     "output_type": "stream",
     "text": [
      "['C:/Users/student/Miniconda3/Lib\\\\abc.py', 'C:/Users/student/Miniconda3/Lib\\\\aifc.py', 'C:/Users/student/Miniconda3/Lib\\\\antigravity.py', 'C:/Users/student/Miniconda3/Lib\\\\argparse.py', 'C:/Users/student/Miniconda3/Lib\\\\ast.py', 'C:/Users/student/Miniconda3/Lib\\\\asynchat.py', 'C:/Users/student/Miniconda3/Lib\\\\asyncio', 'C:/Users/student/Miniconda3/Lib\\\\asyncore.py', 'C:/Users/student/Miniconda3/Lib\\\\base64.py', 'C:/Users/student/Miniconda3/Lib\\\\bdb.py', 'C:/Users/student/Miniconda3/Lib\\\\binhex.py', 'C:/Users/student/Miniconda3/Lib\\\\bisect.py', 'C:/Users/student/Miniconda3/Lib\\\\bz2.py', 'C:/Users/student/Miniconda3/Lib\\\\calendar.py', 'C:/Users/student/Miniconda3/Lib\\\\cgi.py', 'C:/Users/student/Miniconda3/Lib\\\\cgitb.py', 'C:/Users/student/Miniconda3/Lib\\\\chunk.py', 'C:/Users/student/Miniconda3/Lib\\\\cmd.py', 'C:/Users/student/Miniconda3/Lib\\\\code.py', 'C:/Users/student/Miniconda3/Lib\\\\codecs.py', 'C:/Users/student/Miniconda3/Lib\\\\codeop.py', 'C:/Users/student/Miniconda3/Lib\\\\collections', 'C:/Users/student/Miniconda3/Lib\\\\colorsys.py', 'C:/Users/student/Miniconda3/Lib\\\\compileall.py', 'C:/Users/student/Miniconda3/Lib\\\\concurrent', 'C:/Users/student/Miniconda3/Lib\\\\configparser.py', 'C:/Users/student/Miniconda3/Lib\\\\contextlib.py', 'C:/Users/student/Miniconda3/Lib\\\\contextvars.py', 'C:/Users/student/Miniconda3/Lib\\\\copy.py', 'C:/Users/student/Miniconda3/Lib\\\\copyreg.py', 'C:/Users/student/Miniconda3/Lib\\\\cProfile.py', 'C:/Users/student/Miniconda3/Lib\\\\crypt.py', 'C:/Users/student/Miniconda3/Lib\\\\csv.py', 'C:/Users/student/Miniconda3/Lib\\\\ctypes', 'C:/Users/student/Miniconda3/Lib\\\\curses', 'C:/Users/student/Miniconda3/Lib\\\\dataclasses.py', 'C:/Users/student/Miniconda3/Lib\\\\datetime.py', 'C:/Users/student/Miniconda3/Lib\\\\dbm', 'C:/Users/student/Miniconda3/Lib\\\\decimal.py', 'C:/Users/student/Miniconda3/Lib\\\\difflib.py', 'C:/Users/student/Miniconda3/Lib\\\\dis.py', 'C:/Users/student/Miniconda3/Lib\\\\distutils', 'C:/Users/student/Miniconda3/Lib\\\\doctest.py', 'C:/Users/student/Miniconda3/Lib\\\\dummy_threading.py', 'C:/Users/student/Miniconda3/Lib\\\\email', 'C:/Users/student/Miniconda3/Lib\\\\encodings', 'C:/Users/student/Miniconda3/Lib\\\\ensurepip', 'C:/Users/student/Miniconda3/Lib\\\\enum.py', 'C:/Users/student/Miniconda3/Lib\\\\filecmp.py', 'C:/Users/student/Miniconda3/Lib\\\\fileinput.py', 'C:/Users/student/Miniconda3/Lib\\\\fnmatch.py', 'C:/Users/student/Miniconda3/Lib\\\\formatter.py', 'C:/Users/student/Miniconda3/Lib\\\\fractions.py', 'C:/Users/student/Miniconda3/Lib\\\\ftplib.py', 'C:/Users/student/Miniconda3/Lib\\\\functools.py', 'C:/Users/student/Miniconda3/Lib\\\\genericpath.py', 'C:/Users/student/Miniconda3/Lib\\\\getopt.py', 'C:/Users/student/Miniconda3/Lib\\\\getpass.py', 'C:/Users/student/Miniconda3/Lib\\\\gettext.py', 'C:/Users/student/Miniconda3/Lib\\\\glob.py', 'C:/Users/student/Miniconda3/Lib\\\\gzip.py', 'C:/Users/student/Miniconda3/Lib\\\\hashlib.py', 'C:/Users/student/Miniconda3/Lib\\\\heapq.py', 'C:/Users/student/Miniconda3/Lib\\\\hmac.py', 'C:/Users/student/Miniconda3/Lib\\\\html', 'C:/Users/student/Miniconda3/Lib\\\\http', 'C:/Users/student/Miniconda3/Lib\\\\idlelib', 'C:/Users/student/Miniconda3/Lib\\\\imaplib.py', 'C:/Users/student/Miniconda3/Lib\\\\imghdr.py', 'C:/Users/student/Miniconda3/Lib\\\\imp.py', 'C:/Users/student/Miniconda3/Lib\\\\importlib', 'C:/Users/student/Miniconda3/Lib\\\\inspect.py', 'C:/Users/student/Miniconda3/Lib\\\\io.py', 'C:/Users/student/Miniconda3/Lib\\\\ipaddress.py', 'C:/Users/student/Miniconda3/Lib\\\\json', 'C:/Users/student/Miniconda3/Lib\\\\keyword.py', 'C:/Users/student/Miniconda3/Lib\\\\lib2to3', 'C:/Users/student/Miniconda3/Lib\\\\linecache.py', 'C:/Users/student/Miniconda3/Lib\\\\locale.py', 'C:/Users/student/Miniconda3/Lib\\\\logging', 'C:/Users/student/Miniconda3/Lib\\\\lzma.py', 'C:/Users/student/Miniconda3/Lib\\\\macpath.py', 'C:/Users/student/Miniconda3/Lib\\\\mailbox.py', 'C:/Users/student/Miniconda3/Lib\\\\mailcap.py', 'C:/Users/student/Miniconda3/Lib\\\\mimetypes.py', 'C:/Users/student/Miniconda3/Lib\\\\modulefinder.py', 'C:/Users/student/Miniconda3/Lib\\\\msilib', 'C:/Users/student/Miniconda3/Lib\\\\multiprocessing', 'C:/Users/student/Miniconda3/Lib\\\\netrc.py', 'C:/Users/student/Miniconda3/Lib\\\\nntplib.py', 'C:/Users/student/Miniconda3/Lib\\\\ntpath.py', 'C:/Users/student/Miniconda3/Lib\\\\nturl2path.py', 'C:/Users/student/Miniconda3/Lib\\\\numbers.py', 'C:/Users/student/Miniconda3/Lib\\\\opcode.py', 'C:/Users/student/Miniconda3/Lib\\\\operator.py', 'C:/Users/student/Miniconda3/Lib\\\\optparse.py', 'C:/Users/student/Miniconda3/Lib\\\\os.py', 'C:/Users/student/Miniconda3/Lib\\\\pathlib.py', 'C:/Users/student/Miniconda3/Lib\\\\pdb.py', 'C:/Users/student/Miniconda3/Lib\\\\pickle.py', 'C:/Users/student/Miniconda3/Lib\\\\pickletools.py', 'C:/Users/student/Miniconda3/Lib\\\\pipes.py', 'C:/Users/student/Miniconda3/Lib\\\\pkgutil.py', 'C:/Users/student/Miniconda3/Lib\\\\platform.py', 'C:/Users/student/Miniconda3/Lib\\\\plistlib.py', 'C:/Users/student/Miniconda3/Lib\\\\poplib.py', 'C:/Users/student/Miniconda3/Lib\\\\posixpath.py', 'C:/Users/student/Miniconda3/Lib\\\\pprint.py', 'C:/Users/student/Miniconda3/Lib\\\\profile.py', 'C:/Users/student/Miniconda3/Lib\\\\pstats.py', 'C:/Users/student/Miniconda3/Lib\\\\pty.py', 'C:/Users/student/Miniconda3/Lib\\\\pyclbr.py', 'C:/Users/student/Miniconda3/Lib\\\\pydoc.py', 'C:/Users/student/Miniconda3/Lib\\\\pydoc_data', 'C:/Users/student/Miniconda3/Lib\\\\py_compile.py', 'C:/Users/student/Miniconda3/Lib\\\\queue.py', 'C:/Users/student/Miniconda3/Lib\\\\quopri.py', 'C:/Users/student/Miniconda3/Lib\\\\random.py', 'C:/Users/student/Miniconda3/Lib\\\\re.py', 'C:/Users/student/Miniconda3/Lib\\\\reprlib.py', 'C:/Users/student/Miniconda3/Lib\\\\rlcompleter.py', 'C:/Users/student/Miniconda3/Lib\\\\runpy.py', 'C:/Users/student/Miniconda3/Lib\\\\sched.py', 'C:/Users/student/Miniconda3/Lib\\\\secrets.py', 'C:/Users/student/Miniconda3/Lib\\\\selectors.py', 'C:/Users/student/Miniconda3/Lib\\\\shelve.py', 'C:/Users/student/Miniconda3/Lib\\\\shlex.py', 'C:/Users/student/Miniconda3/Lib\\\\shutil.py', 'C:/Users/student/Miniconda3/Lib\\\\signal.py', 'C:/Users/student/Miniconda3/Lib\\\\site-packages', 'C:/Users/student/Miniconda3/Lib\\\\site.py', 'C:/Users/student/Miniconda3/Lib\\\\smtpd.py', 'C:/Users/student/Miniconda3/Lib\\\\smtplib.py', 'C:/Users/student/Miniconda3/Lib\\\\sndhdr.py', 'C:/Users/student/Miniconda3/Lib\\\\socket.py', 'C:/Users/student/Miniconda3/Lib\\\\socketserver.py', 'C:/Users/student/Miniconda3/Lib\\\\sqlite3', 'C:/Users/student/Miniconda3/Lib\\\\sre_compile.py', 'C:/Users/student/Miniconda3/Lib\\\\sre_constants.py', 'C:/Users/student/Miniconda3/Lib\\\\sre_parse.py', 'C:/Users/student/Miniconda3/Lib\\\\ssl.py', 'C:/Users/student/Miniconda3/Lib\\\\stat.py', 'C:/Users/student/Miniconda3/Lib\\\\statistics.py', 'C:/Users/student/Miniconda3/Lib\\\\string.py', 'C:/Users/student/Miniconda3/Lib\\\\stringprep.py', 'C:/Users/student/Miniconda3/Lib\\\\struct.py', 'C:/Users/student/Miniconda3/Lib\\\\subprocess.py', 'C:/Users/student/Miniconda3/Lib\\\\sunau.py', 'C:/Users/student/Miniconda3/Lib\\\\symbol.py', 'C:/Users/student/Miniconda3/Lib\\\\symtable.py', 'C:/Users/student/Miniconda3/Lib\\\\sysconfig.py', 'C:/Users/student/Miniconda3/Lib\\\\tabnanny.py', 'C:/Users/student/Miniconda3/Lib\\\\tarfile.py', 'C:/Users/student/Miniconda3/Lib\\\\telnetlib.py', 'C:/Users/student/Miniconda3/Lib\\\\tempfile.py', 'C:/Users/student/Miniconda3/Lib\\\\test', 'C:/Users/student/Miniconda3/Lib\\\\textwrap.py', 'C:/Users/student/Miniconda3/Lib\\\\this.py', 'C:/Users/student/Miniconda3/Lib\\\\threading.py', 'C:/Users/student/Miniconda3/Lib\\\\timeit.py', 'C:/Users/student/Miniconda3/Lib\\\\tkinter', 'C:/Users/student/Miniconda3/Lib\\\\token.py', 'C:/Users/student/Miniconda3/Lib\\\\tokenize.py', 'C:/Users/student/Miniconda3/Lib\\\\trace.py', 'C:/Users/student/Miniconda3/Lib\\\\traceback.py', 'C:/Users/student/Miniconda3/Lib\\\\tracemalloc.py', 'C:/Users/student/Miniconda3/Lib\\\\tty.py', 'C:/Users/student/Miniconda3/Lib\\\\turtle.py', 'C:/Users/student/Miniconda3/Lib\\\\turtledemo', 'C:/Users/student/Miniconda3/Lib\\\\types.py', 'C:/Users/student/Miniconda3/Lib\\\\typing.py', 'C:/Users/student/Miniconda3/Lib\\\\unittest', 'C:/Users/student/Miniconda3/Lib\\\\urllib', 'C:/Users/student/Miniconda3/Lib\\\\uu.py', 'C:/Users/student/Miniconda3/Lib\\\\uuid.py', 'C:/Users/student/Miniconda3/Lib\\\\venv', 'C:/Users/student/Miniconda3/Lib\\\\warnings.py', 'C:/Users/student/Miniconda3/Lib\\\\wave.py', 'C:/Users/student/Miniconda3/Lib\\\\weakref.py', 'C:/Users/student/Miniconda3/Lib\\\\webbrowser.py', 'C:/Users/student/Miniconda3/Lib\\\\wsgiref', 'C:/Users/student/Miniconda3/Lib\\\\xdrlib.py', 'C:/Users/student/Miniconda3/Lib\\\\xml', 'C:/Users/student/Miniconda3/Lib\\\\xmlrpc', 'C:/Users/student/Miniconda3/Lib\\\\zipapp.py', 'C:/Users/student/Miniconda3/Lib\\\\zipfile.py', 'C:/Users/student/Miniconda3/Lib\\\\_bootlocale.py', 'C:/Users/student/Miniconda3/Lib\\\\_collections_abc.py', 'C:/Users/student/Miniconda3/Lib\\\\_compat_pickle.py', 'C:/Users/student/Miniconda3/Lib\\\\_compression.py', 'C:/Users/student/Miniconda3/Lib\\\\_dummy_thread.py', 'C:/Users/student/Miniconda3/Lib\\\\_markupbase.py', 'C:/Users/student/Miniconda3/Lib\\\\_nsis.py', 'C:/Users/student/Miniconda3/Lib\\\\_osx_support.py', 'C:/Users/student/Miniconda3/Lib\\\\_pydecimal.py', 'C:/Users/student/Miniconda3/Lib\\\\_pyio.py', 'C:/Users/student/Miniconda3/Lib\\\\_py_abc.py', 'C:/Users/student/Miniconda3/Lib\\\\_sitebuiltins.py', 'C:/Users/student/Miniconda3/Lib\\\\_strptime.py', 'C:/Users/student/Miniconda3/Lib\\\\_system_path.py', 'C:/Users/student/Miniconda3/Lib\\\\_threading_local.py', 'C:/Users/student/Miniconda3/Lib\\\\_weakrefset.py', 'C:/Users/student/Miniconda3/Lib\\\\__future__.py', 'C:/Users/student/Miniconda3/Lib\\\\__phello__.foo.py', 'C:/Users/student/Miniconda3/Lib\\\\__pycache__']\n"
     ]
    }
   ],
   "source": [
    "import glob\n",
    "fileList = glob.glob('C:/Users/student/Miniconda3/Lib/*')\n",
    "print(fileList)"
   ]
  },
  {
   "cell_type": "code",
   "execution_count": 68,
   "metadata": {},
   "outputs": [
    {
     "data": {
      "text/plain": [
       "'python_dir/hosts'"
      ]
     },
     "execution_count": 68,
     "metadata": {},
     "output_type": "execute_result"
    }
   ],
   "source": [
    "import shutil\n",
    "shutil.copy('c:/windows/System32/drivers/etc/hosts','python_dir/')"
   ]
  },
  {
   "cell_type": "code",
   "execution_count": 69,
   "metadata": {},
   "outputs": [
    {
     "data": {
      "text/plain": [
       "1579072128.788938"
      ]
     },
     "execution_count": 69,
     "metadata": {},
     "output_type": "execute_result"
    }
   ],
   "source": [
    "import time\n",
    "\n",
    "time.time()\n"
   ]
  },
  {
   "cell_type": "code",
   "execution_count": 70,
   "metadata": {},
   "outputs": [
    {
     "data": {
      "text/plain": [
       "1579072133.1297407"
      ]
     },
     "execution_count": 70,
     "metadata": {},
     "output_type": "execute_result"
    }
   ],
   "source": [
    "time.time()"
   ]
  },
  {
   "cell_type": "code",
   "execution_count": 76,
   "metadata": {},
   "outputs": [
    {
     "data": {
      "text/plain": [
       "3"
      ]
     },
     "execution_count": 76,
     "metadata": {},
     "output_type": "execute_result"
    }
   ],
   "source": [
    "import random\n",
    "random.seed(1)\n",
    "\n",
    "random.randint(1,10)  #seed의 인자가 상수이므로 고정값이 나옴. 인자의 기본값은 time.time()"
   ]
  },
  {
   "cell_type": "code",
   "execution_count": 79,
   "metadata": {},
   "outputs": [],
   "source": [
    "data=time.time()\n",
    "t= time.localtime(data)"
   ]
  },
  {
   "cell_type": "code",
   "execution_count": 80,
   "metadata": {},
   "outputs": [
    {
     "data": {
      "text/plain": [
       "15"
      ]
     },
     "execution_count": 80,
     "metadata": {},
     "output_type": "execute_result"
    }
   ],
   "source": [
    "t.tm_mday"
   ]
  },
  {
   "cell_type": "code",
   "execution_count": 86,
   "metadata": {},
   "outputs": [
    {
     "data": {
      "text/plain": [
       "'2020-01-15 16:22:36'"
      ]
     },
     "execution_count": 86,
     "metadata": {},
     "output_type": "execute_result"
    }
   ],
   "source": [
    "time.strftime('%Y-%m-%d %H:%M:%S',time.localtime(time.time()))"
   ]
  },
  {
   "cell_type": "code",
   "execution_count": null,
   "metadata": {},
   "outputs": [],
   "source": [
    "import time\n",
    "\n",
    "minute=3\n",
    "time.sleep(minute*60)"
   ]
  },
  {
   "cell_type": "code",
   "execution_count": 2,
   "metadata": {},
   "outputs": [
    {
     "data": {
      "text/plain": [
       "'2020-04-24 16:30:11'"
      ]
     },
     "execution_count": 2,
     "metadata": {},
     "output_type": "execute_result"
    }
   ],
   "source": [
    "import time\n",
    "day100=time.time()+100*24*60*60\n",
    "time.strftime('%Y-%m-%d %H:%M:%S',time.localtime(day100))"
   ]
  },
  {
   "cell_type": "code",
   "execution_count": 4,
   "metadata": {},
   "outputs": [
    {
     "data": {
      "text/plain": [
       "'화'"
      ]
     },
     "execution_count": 4,
     "metadata": {},
     "output_type": "execute_result"
    }
   ],
   "source": [
    "import calendar\n",
    "week_dict = { 0 : '월', 1 : '화', 2 : '수', 3 : '목', 4 : '금', 5 : '토', 6 : '일' }\n",
    "\n",
    "week_dict[calendar.weekday(2017,5,9)]"
   ]
  },
  {
   "cell_type": "code",
   "execution_count": 12,
   "metadata": {},
   "outputs": [
    {
     "name": "stdout",
     "output_type": "stream",
     "text": [
      "    August 2004\n",
      "Mo Tu We Th Fr Sa Su\n",
      "                   1\n",
      " 2  3  4  5  6  7  8\n",
      " 9 10 11 12 13 14 15\n",
      "16 17 18 19 20 21 22\n",
      "23 24 25 26 27 28 29\n",
      "30 31\n",
      "2\n",
      "9\n",
      "16\n",
      "23\n",
      "30\n"
     ]
    }
   ],
   "source": [
    "calendar.prmonth(2004,8)\n",
    "\n",
    "lastDay=calendar.monthrange(2004,8)[1]\n",
    "for i in range(1,lastDay+1):\n",
    "    if calendar.weekday(2004,8,i)==0:\n",
    "        print(i)"
   ]
  },
  {
   "cell_type": "code",
   "execution_count": 14,
   "metadata": {},
   "outputs": [
    {
     "data": {
      "text/plain": [
       "[(0, 1), (1, 2), (2, 3)]"
      ]
     },
     "execution_count": 14,
     "metadata": {},
     "output_type": "execute_result"
    }
   ],
   "source": [
    "list(enumerate([1, 2, 3]))"
   ]
  },
  {
   "cell_type": "code",
   "execution_count": null,
   "metadata": {},
   "outputs": [],
   "source": []
  }
 ],
 "metadata": {
  "kernelspec": {
   "display_name": "Python 3",
   "language": "python",
   "name": "python3"
  },
  "language_info": {
   "codemirror_mode": {
    "name": "ipython",
    "version": 3
   },
   "file_extension": ".py",
   "mimetype": "text/x-python",
   "name": "python",
   "nbconvert_exporter": "python",
   "pygments_lexer": "ipython3",
   "version": "3.7.4"
  }
 },
 "nbformat": 4,
 "nbformat_minor": 2
}
