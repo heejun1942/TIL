{
 "cells": [
  {
   "cell_type": "code",
   "execution_count": 7,
   "metadata": {},
   "outputs": [
    {
     "name": "stdout",
     "output_type": "stream",
     "text": [
      "입력fdsaf\n"
     ]
    }
   ],
   "source": [
    "file = open('c:/dev/memo.txt', 'wt')\n",
    "\n",
    "text = input('입력')\n",
    "file.write(text)\n",
    "\n",
    "file.close()"
   ]
  },
  {
   "cell_type": "code",
   "execution_count": 8,
   "metadata": {},
   "outputs": [],
   "source": [
    "file = open('c:/dev/gugudan.txt', 'wt')\n",
    "\n",
    "for a in range(2, 6):\n",
    "    for b in range(1, 10):\n",
    "        file.write('%d * %d = %d\\n' %(a,b,a*b))\n",
    "    \n",
    "file.close()    "
   ]
  },
  {
   "cell_type": "code",
   "execution_count": 9,
   "metadata": {},
   "outputs": [],
   "source": [
    "file = open('c:/dev/list.bin', 'wb')\n",
    "\n",
    "list1=[1,2,3,4,5]\n",
    "file.write(bytes(list1))\n",
    "file.close()"
   ]
  },
  {
   "cell_type": "code",
   "execution_count": 11,
   "metadata": {},
   "outputs": [
    {
     "data": {
      "text/plain": [
       "bytes"
      ]
     },
     "execution_count": 11,
     "metadata": {},
     "output_type": "execute_result"
    }
   ],
   "source": [
    "file = open('c:/dev/list.bin', 'rb')\n",
    "data= file.read()\n",
    "file.close()\n",
    "type(data)"
   ]
  },
  {
   "cell_type": "code",
   "execution_count": 13,
   "metadata": {},
   "outputs": [],
   "source": [
    "import pickle\n",
    "\n",
    "file = open('c:/dev/list.bin', 'wb')\n",
    "\n",
    "list1=['a',1,2,3,4,5]\n",
    "\n",
    "#file.write(bytes(list1))\n",
    "pickle.dump(list1, file)\n",
    "\n",
    "file.close()"
   ]
  },
  {
   "cell_type": "code",
   "execution_count": 17,
   "metadata": {},
   "outputs": [
    {
     "name": "stdout",
     "output_type": "stream",
     "text": [
      "['a', 1, 2, 3, 4, 5]\n"
     ]
    }
   ],
   "source": [
    "file=open('c:/dev/list.bin', 'rb')\n",
    "\n",
    "result=pickle.load(file)\n",
    "\n",
    "print(result)\n",
    "file.close()"
   ]
  },
  {
   "cell_type": "code",
   "execution_count": 19,
   "metadata": {
    "scrolled": true
   },
   "outputs": [
    {
     "name": "stdout",
     "output_type": "stream",
     "text": [
      "2 * 1 = 2\n",
      "2 * 2 = 4\n",
      "2 * 3 = 6\n",
      "2 * 4 = 8\n",
      "2 * 5 = 10\n",
      "2 * 6 = 12\n",
      "2 * 7 = 14\n",
      "2 * 8 = 16\n",
      "2 * 9 = 18\n",
      "3 * 1 = 3\n",
      "3 * 2 = 6\n",
      "3 * 3 = 9\n",
      "3 * 4 = 12\n",
      "3 * 5 = 15\n",
      "3 * 6 = 18\n",
      "3 * 7 = 21\n",
      "3 * 8 = 24\n",
      "3 * 9 = 27\n",
      "4 * 1 = 4\n",
      "4 * 2 = 8\n",
      "4 * 3 = 12\n",
      "4 * 4 = 16\n",
      "4 * 5 = 20\n",
      "4 * 6 = 24\n",
      "4 * 7 = 28\n",
      "4 * 8 = 32\n",
      "4 * 9 = 36\n",
      "5 * 1 = 5\n",
      "5 * 2 = 10\n",
      "5 * 3 = 15\n",
      "5 * 4 = 20\n",
      "5 * 5 = 25\n",
      "5 * 6 = 30\n",
      "5 * 7 = 35\n",
      "5 * 8 = 40\n",
      "5 * 9 = 45\n"
     ]
    }
   ],
   "source": [
    "# 가져오기위해 반복문실행\n",
    "\n",
    "file= open('c:/dev/gugudan.txt')\n",
    "while True:\n",
    "    data= file.readline()\n",
    "    if not data:\n",
    "        break\n",
    "    print(data, end=\"\")\n",
    "file.close()\n",
    "\n",
    "# print()로 그냥 출력하면 줄바꿈이 두번발생.\n",
    "# 파일안에 줄바꿈과 print()의 줄바꿈때문에"
   ]
  },
  {
   "cell_type": "code",
   "execution_count": 21,
   "metadata": {},
   "outputs": [
    {
     "name": "stdout",
     "output_type": "stream",
     "text": [
      "2 * 1 = 2\n",
      "2 * 2 = 4\n",
      "2 * 3 = 6\n",
      "2 * 4 = 8\n",
      "2 * 5 = 10\n",
      "2 * 6 = 12\n",
      "2 * 7 = 14\n",
      "2 * 8 = 16\n",
      "2 * 9 = 18\n",
      "3 * 1 = 3\n",
      "3 * 2 = 6\n",
      "3 * 3 = 9\n",
      "3 * 4 = 12\n",
      "3 * 5 = 15\n",
      "3 * 6 = 18\n",
      "3 * 7 = 21\n",
      "3 * 8 = 24\n",
      "3 * 9 = 27\n",
      "4 * 1 = 4\n",
      "4 * 2 = 8\n",
      "4 * 3 = 12\n",
      "4 * 4 = 16\n",
      "4 * 5 = 20\n",
      "4 * 6 = 24\n",
      "4 * 7 = 28\n",
      "4 * 8 = 32\n",
      "4 * 9 = 36\n",
      "5 * 1 = 5\n",
      "5 * 2 = 10\n",
      "5 * 3 = 15\n",
      "5 * 4 = 20\n",
      "5 * 5 = 25\n",
      "5 * 6 = 30\n",
      "5 * 7 = 35\n",
      "5 * 8 = 40\n",
      "5 * 9 = 45\n"
     ]
    }
   ],
   "source": [
    "# 일단 전부가져옴. 읽기위해 반복문실행\n",
    "file= open('c:/dev/gugudan.txt')\n",
    "\n",
    "data= file.readlines()\n",
    "for d in data:\n",
    "    print(d, end='')\n",
    "file.close()"
   ]
  },
  {
   "cell_type": "code",
   "execution_count": 22,
   "metadata": {},
   "outputs": [
    {
     "name": "stdout",
     "output_type": "stream",
     "text": [
      "2 * 1 = 2\n",
      "2 * 2 = 4\n",
      "2 * 3 = 6\n",
      "2 * 4 = 8\n",
      "2 * 5 = 10\n",
      "2 * 6 = 12\n",
      "2 * 7 = 14\n",
      "2 * 8 = 16\n",
      "2 * 9 = 18\n",
      "3 * 1 = 3\n",
      "3 * 2 = 6\n",
      "3 * 3 = 9\n",
      "3 * 4 = 12\n",
      "3 * 5 = 15\n",
      "3 * 6 = 18\n",
      "3 * 7 = 21\n",
      "3 * 8 = 24\n",
      "3 * 9 = 27\n",
      "4 * 1 = 4\n",
      "4 * 2 = 8\n",
      "4 * 3 = 12\n",
      "4 * 4 = 16\n",
      "4 * 5 = 20\n",
      "4 * 6 = 24\n",
      "4 * 7 = 28\n",
      "4 * 8 = 32\n",
      "4 * 9 = 36\n",
      "5 * 1 = 5\n",
      "5 * 2 = 10\n",
      "5 * 3 = 15\n",
      "5 * 4 = 20\n",
      "5 * 5 = 25\n",
      "5 * 6 = 30\n",
      "5 * 7 = 35\n",
      "5 * 8 = 40\n",
      "5 * 9 = 45\n"
     ]
    }
   ],
   "source": [
    "# 일단 전부가져옴. 읽기위해 반복문실행\n",
    "file= open('c:/dev/gugudan.txt')\n",
    "with file:\n",
    "    data= file.readlines()\n",
    "    for d in data:\n",
    "        print(d, end='')\n",
    "#file.close()"
   ]
  },
  {
   "cell_type": "code",
   "execution_count": 34,
   "metadata": {},
   "outputs": [],
   "source": [
    "# __init__는 자동호출\n",
    "#__exit__ 와 __enter__은 with에 자동호출.\n",
    "\n",
    "class MyFile:\n",
    "    def __init__(self):\n",
    "        print('생성')\n",
    "    def __enter__(self):\n",
    "        print('enter')\n",
    "    def __exit__(self, type,value, traceback):\n",
    "        print('exit')\n",
    "        self.close()\n",
    "    def close(self):\n",
    "        pass"
   ]
  },
  {
   "cell_type": "code",
   "execution_count": 35,
   "metadata": {},
   "outputs": [
    {
     "name": "stdout",
     "output_type": "stream",
     "text": [
      "생성\n",
      "enter\n",
      "exit\n"
     ]
    }
   ],
   "source": [
    "# 메모리에 클래스를 올려놓고 쓸때는 self가 들어가야함.\n",
    "# with는 __exit__를 불러줌. > __exit__에 close가 들어있음.\n",
    "\n",
    "m= MyFile()  # m에는 클래스의 주소가 저장됨.\n",
    "with m:\n",
    "    pass"
   ]
  },
  {
   "cell_type": "code",
   "execution_count": 36,
   "metadata": {},
   "outputs": [
    {
     "name": "stdout",
     "output_type": "stream",
     "text": [
      "166833\n"
     ]
    }
   ],
   "source": [
    "num=1\n",
    "total=0\n",
    "\n",
    "for i in range(1,1001):\n",
    "    if i%3==0:\n",
    "        total +=i\n",
    "        \n",
    "print(total)"
   ]
  },
  {
   "cell_type": "code",
   "execution_count": 53,
   "metadata": {
    "scrolled": true
   },
   "outputs": [
    {
     "name": "stdout",
     "output_type": "stream",
     "text": [
      "가나다라카타파하\n",
      "ABCDWXYZ\n"
     ]
    }
   ],
   "source": [
    "class Letter:\n",
    "    letter = '' # 전역변수\n",
    "    \n",
    "    def write(self, text):\n",
    "        self.letter += text\n",
    "    \n",
    "    def show(self):\n",
    "        return self.letter\n",
    "    \n",
    "letter1 = Letter()  # 네모박스생성. 주소가 letter1로 들어감\n",
    "letter2 = Letter()\n",
    "letter1.write('가나다라')  # write 호출시 주소가 self로 전달\n",
    "letter1.write('카타파하')\n",
    "letter2.write('ABCD')\n",
    "letter2.write('WXYZ')\n",
    "print(letter1.show())\n",
    "print(letter2.show())"
   ]
  },
  {
   "cell_type": "code",
   "execution_count": null,
   "metadata": {},
   "outputs": [],
   "source": []
  },
  {
   "cell_type": "code",
   "execution_count": 60,
   "metadata": {},
   "outputs": [
    {
     "name": "stdout",
     "output_type": "stream",
     "text": [
      "Python 10000\n",
      "Java 10000\n"
     ]
    }
   ],
   "source": [
    "class Book:\n",
    "    def setTitle(self, text):\n",
    "        self.title = text\n",
    "    \n",
    "    def setPrice(self, num):\n",
    "        self.price = num\n",
    "        \n",
    "    \n",
    "book1 = Book()\n",
    "book1.setTitle('Python')\n",
    "book1.setPrice(10000)\n",
    "book2 = Book()\n",
    "book2.setTitle('Java')\n",
    "book2.setPrice(10000)\n",
    "print(book1.title, book1.price)  # 전역변수 title, price\n",
    "print(book2.title, book2.price)"
   ]
  },
  {
   "cell_type": "code",
   "execution_count": 59,
   "metadata": {},
   "outputs": [
    {
     "name": "stdout",
     "output_type": "stream",
     "text": [
      "['전동 트렁크', '통풍 시트', '뒷자리 에어백', '하이패스']\n",
      "['전동 트렁크', '통풍 시트', '뒷자리 에어백', '하이패스']\n",
      "['전동 트렁크', '통풍 시트', '뒷자리 에어백', '하이패스']\n"
     ]
    }
   ],
   "source": [
    "class Car:\n",
    "# 리스트는 참조자료형이므로 self를 쓰지않고 전역변수를 생성하면 주소를 공유함    \n",
    "    car=[]  \n",
    "    \n",
    "    def add_option(self, option):\n",
    "         self.car.append(option)\n",
    "        \n",
    "    def show_option(self):\n",
    "        return self.car\n",
    "\n",
    "car1 = Car()\n",
    "car2 = Car()\n",
    "car1.add_option('전동 트렁크')\n",
    "car1.add_option('통풍 시트')\n",
    "car2.add_option('뒷자리 에어백')\n",
    "car2.add_option('하이패스')\n",
    "print(car1.show_option())\n",
    "print(car2.show_option())\n",
    "print(car1.car)\n"
   ]
  },
  {
   "cell_type": "code",
   "execution_count": 56,
   "metadata": {
    "scrolled": true
   },
   "outputs": [
    {
     "name": "stdout",
     "output_type": "stream",
     "text": [
      "['전동 트렁크', '통풍 시트']\n",
      "['뒷자리 에어백', '하이패스']\n"
     ]
    }
   ],
   "source": [
    "class Car: \n",
    "#    car=[]  \n",
    "    def __init__(self):\n",
    "        self.car=[]  # 전역변수 생성\n",
    "        \n",
    "    def add_option(self, option):\n",
    "         self.car.append(option)\n",
    "        \n",
    "    def show_option(self):\n",
    "        return self.car\n",
    "\n",
    "car1 = Car()\n",
    "car2 = Car()\n",
    "car1.add_option('전동 트렁크')\n",
    "car1.add_option('통풍 시트')\n",
    "car2.add_option('뒷자리 에어백')\n",
    "car2.add_option('하이패스')\n",
    "print(car1.show_option())\n",
    "print(car2.show_option())"
   ]
  },
  {
   "cell_type": "code",
   "execution_count": 61,
   "metadata": {},
   "outputs": [
    {
     "name": "stdout",
     "output_type": "stream",
     "text": [
      "['치즈', '베이컨', '고구마']\n",
      "['불고기', '피망']\n"
     ]
    }
   ],
   "source": [
    "class Pizza:\n",
    "    def __init__(self):\n",
    "        self.toppings = []  #전역변수 topping생성\n",
    "    \n",
    "    def add_topping(self,topping):\n",
    "        self.toppings += [topping]\n",
    "    \n",
    "    def remove(self, topping):\n",
    "        self.toppings.remove(topping)\n",
    "        \n",
    "    def show_topping(self):\n",
    "        return self.toppings\n",
    "    \n",
    "p1 = Pizza()\n",
    "p1.add_topping('치즈')\n",
    "p1.add_topping('베이컨')\n",
    "p1.add_topping('고구마')\n",
    "p2 = Pizza()\n",
    "p2.add_topping('소시지')\n",
    "p2.add_topping('불고기')\n",
    "p2.add_topping('피망')\n",
    "p2.remove('소시지')\n",
    "print(p1.show_topping())\n",
    "print(p2.show_topping())"
   ]
  },
  {
   "cell_type": "code",
   "execution_count": 70,
   "metadata": {},
   "outputs": [
    {
     "name": "stdout",
     "output_type": "stream",
     "text": [
      "합계 15\n"
     ]
    }
   ],
   "source": [
    "class EachSum:\n",
    "    def __init__(self):\n",
    "        self.total = 0\n",
    "    \n",
    "    def compute(self, number):\n",
    "        while number:\n",
    "            n1= number%10\n",
    "            self.total += n1\n",
    "            number=number//10\n",
    "        return self.total\n",
    "\n",
    " # 코드 작성\n",
    "each = EachSum()\n",
    "total = each.compute(12345)\n",
    "print('합계', total)\n"
   ]
  },
  {
   "cell_type": "code",
   "execution_count": 102,
   "metadata": {
    "scrolled": true
   },
   "outputs": [
    {
     "name": "stdout",
     "output_type": "stream",
     "text": [
      "짬뽕\n"
     ]
    }
   ],
   "source": [
    "import random\n",
    "\n",
    "class SelectMenu: \n",
    "    # 생성자를 통해 인자를 넘겨주므로, init에 parameter 생성.\n",
    "    def __init__(self,menu):\n",
    "        self.menuList=menu\n",
    "        \n",
    "    def get_menu(self):\n",
    "        ran=random.randint(0,len(self.menuList)-1)\n",
    "        choice = self.menuList[ran]\n",
    "        return choice\n",
    "    \n",
    "    \n",
    "menu = SelectMenu(['짬뽕', '초밥', '쌀국수', '주꾸미'])\n",
    "print(menu.get_menu())"
   ]
  },
  {
   "cell_type": "markdown",
   "metadata": {},
   "source": []
  },
  {
   "cell_type": "markdown",
   "metadata": {},
   "source": [
    "### 모듈"
   ]
  },
  {
   "cell_type": "code",
   "execution_count": 106,
   "metadata": {},
   "outputs": [],
   "source": [
    "import Calendar as cal"
   ]
  },
  {
   "cell_type": "code",
   "execution_count": 109,
   "metadata": {},
   "outputs": [
    {
     "data": {
      "text/plain": [
       "8"
      ]
     },
     "execution_count": 109,
     "metadata": {},
     "output_type": "execute_result"
    }
   ],
   "source": [
    "cal.plus(5,3)"
   ]
  },
  {
   "cell_type": "code",
   "execution_count": 111,
   "metadata": {},
   "outputs": [
    {
     "data": {
      "text/plain": [
       "8"
      ]
     },
     "execution_count": 111,
     "metadata": {},
     "output_type": "execute_result"
    }
   ],
   "source": [
    "from Calendar import plus, minus\n",
    "\n",
    "plus(5,3)"
   ]
  },
  {
   "cell_type": "code",
   "execution_count": 112,
   "metadata": {},
   "outputs": [
    {
     "data": {
      "text/plain": [
       "2"
      ]
     },
     "execution_count": 112,
     "metadata": {},
     "output_type": "execute_result"
    }
   ],
   "source": [
    "from random import randint\n",
    "randint(1,5)"
   ]
  },
  {
   "cell_type": "code",
   "execution_count": 120,
   "metadata": {},
   "outputs": [
    {
     "data": {
      "text/plain": [
       "3"
      ]
     },
     "execution_count": 120,
     "metadata": {},
     "output_type": "execute_result"
    }
   ],
   "source": [
    "from mymod import myfunc\n",
    "\n",
    "myfunc(1,2)"
   ]
  },
  {
   "cell_type": "code",
   "execution_count": 119,
   "metadata": {},
   "outputs": [
    {
     "name": "stdout",
     "output_type": "stream",
     "text": [
      "A\n",
      "A\n"
     ]
    }
   ],
   "source": [
    "import mod_class as mc\n",
    "\n",
    "my_class = mc.MyClass('A')\n",
    "my_class.show()\n",
    "print(my_class.get_name())"
   ]
  },
  {
   "cell_type": "code",
   "execution_count": 121,
   "metadata": {},
   "outputs": [
    {
     "data": {
      "text/plain": [
       "3"
      ]
     },
     "execution_count": 121,
     "metadata": {},
     "output_type": "execute_result"
    }
   ],
   "source": [
    "from mymod import myfunc\n",
    "\n",
    "myfunc(1,2)"
   ]
  },
  {
   "cell_type": "markdown",
   "metadata": {},
   "source": [
    "### 패키지"
   ]
  },
  {
   "cell_type": "code",
   "execution_count": 2,
   "metadata": {},
   "outputs": [
    {
     "name": "stdout",
     "output_type": "stream",
     "text": [
      "sound wav!\n"
     ]
    }
   ],
   "source": [
    "import driver.sound.mp3\n",
    "\n",
    "from driver.sound.wav import *"
   ]
  },
  {
   "cell_type": "code",
   "execution_count": 3,
   "metadata": {},
   "outputs": [
    {
     "name": "stdout",
     "output_type": "stream",
     "text": [
      "vga ati!\n"
     ]
    }
   ],
   "source": [
    "import driver.vga.ati"
   ]
  },
  {
   "cell_type": "code",
   "execution_count": 4,
   "metadata": {},
   "outputs": [
    {
     "name": "stdout",
     "output_type": "stream",
     "text": [
      "vga nvidia!\n"
     ]
    }
   ],
   "source": [
    "from driver.vga.nvidia import *"
   ]
  },
  {
   "cell_type": "code",
   "execution_count": 5,
   "metadata": {},
   "outputs": [],
   "source": [
    "from driver.vga import *"
   ]
  },
  {
   "cell_type": "code",
   "execution_count": null,
   "metadata": {},
   "outputs": [],
   "source": []
  },
  {
   "cell_type": "code",
   "execution_count": 19,
   "metadata": {
    "scrolled": true
   },
   "outputs": [
    {
     "name": "stdout",
     "output_type": "stream",
     "text": [
      "{'Numbers': 1, 'Clean-up': 2, 'OS': 7, 'datetime': 1, 'Heap': 1, 'dl': 1, 'flavor': 1, 'parser': 6, '7.11.': 1, '__import__()': 1, 'containing': 1, 'Special': 1, 'test.test_support': 1, '16.4.': 1, 'configuration': 4, 'Working': 2, 'worth': 1, 'mimetools': 1, 'builtins': 1, 'xml.sax.xmlreader': 1, 'suitable': 1, 'platforms': 1, 'Performance': 1, '20.14.': 1, 'facilities': 1, '5.11.': 1, '9.4.': 2, 'Queues': 1, 'Testing': 2, 'Turtle': 1, 'scheduler': 1, 'displays': 1, 'contexts': 1, 'else': 1, 'getpass': 1, 'Quality': 1, 'dbhash': 1, 'Introduction': 2, 'Word': 1, '5.9.': 1, '19.10.': 1, 'fnmatch': 1, '9.3.4.': 1, '17.7.': 1, 'uuencode': 1, 'Color': 1, 'difflib': 1, '20.19.': 1, 'this': 1, 'bytecode': 1, 'manipulations': 1, 'cmath': 1, 'Secure': 1, 'inspect': 1, 'dircache': 1, '6.4.': 1, 'command-line': 1, 'mimify': 1, 'imglib': 1, 'explicitly': 1, 'entities': 1, 'Guess': 1, 'together': 1, 'sound': 1, 'color': 1, 'Detection': 1, 'traceback': 2, 'language.': 2, 'Steps': 1, 'group': 1, '31.2.': 1, 'library,': 1, 'Substitution': 2, 'syntax': 2, '31.7.': 1, 'Measurement': 1, 'bisect': 1, '36.2.': 1, 'Stacks': 1, 'base64': 1, 'self-contained,': 1, '21.1.': 1, 'implemented': 1, '17.3.': 1, 'Objects': 6, '30.7.': 1, 'Conversion': 1, 'Base16,': 1, '32.2.': 1, 'filecmp': 1, '35.11.': 1, '26.': 1, 'utility': 1, 'fixed': 1, 'findertools': 1, 'py_compile': 1, 'tabnanny': 1, '32.3.': 1, 'exception': 1, 'Comprehensions': 2, 'have': 1, 'reinterpretation': 1, 'efficient': 2, 'hashlib': 1, 'compiler': 1, 'Access': 11, 'widget': 1, 'internationalization': 1, 'specific': 2, 'threading': 3, 'SGI-specific': 1, 'socket': 4, 'long,': 1, 'profiler': 1, 'break': 1, 'online': 1, 'formatting': 2, 'posix': 1, 'definition': 1, 'used': 10, 'array': 1, 'completion': 1, 'included': 1, 'Formats': 1, 'AIFC': 1, 'Generate': 4, 'fpformat': 1, 'SQLite': 1, 'ambiguous': 1, '38.2.': 1, '18.13.': 1, 'pydoc': 1, 'components.': 2, 'calendar-related': 1, '6.2.': 1, 'winsound': 1, 'C++,': 1, 'Loops': 1, 'Interpret': 1, 'command': 3, 'Macintosh': 1, 'URL': 1, 'Executing': 1, '19.1.': 1, 'locking': 1, '2.2.4.': 1, '30.5.': 1, 'weakref': 1, 'Output': 4, '5.8.': 2, '7.2.': 2, 'easy': 1, 'servers': 1, 'internal': 1, 'even': 1, '25.4.': 1, 'more': 2, 'hashes': 1, 'Intra-package': 1, '19.8.': 1, '31.9.': 1, 'Sequences': 2, 'unittest': 1, 'database': 5, '5.1.4.': 1, 'NNTP': 1, 'Interactive': 5, 'OSS-compatible': 1, '2.2.3.': 1, 'Byte-compile': 1, 'entire': 2, 'Module': 1, 'string': 4, 'installers': 1, 'mailbox': 1, 'pathname': 2, '26.3.': 1, 'struct': 1, 'Trees': 1, 'stub': 1, 'Numeric': 3, '__main__': 1, 'Abstract': 3, 'statement': 3, 'comprehensive': 1, 'ast': 1, 'pickle': 4, 'enhance': 1, 'Pseudo-terminal': 1, '9.9.': 2, 'gensuitemodule': 1, 'ideal': 1, '9.1.': 2, '19.7.': 1, 'arithmetic': 1, 'of': 30, '16.9.': 1, 'Subprocess': 1, 'Traceback': 1, 'dummy_threading': 1, '15.3.': 1, 'text': 1, '27.9.': 1, 'hmac': 1, 'marshal': 1, 'everyday': 1, 'programs': 4, 'Encode': 4, 'long': 1, 'dumbdbm': 1, 'ic': 1, 'autoGIL': 1, 'below.': 1, 'mhlib': 1, 'timeit': 1, 'quopri': 1, '“database”': 1, 'modules': 14, 'Internationalization': 2, 'CGI': 1, 'packed': 1, 'CGI-capable': 1, 'Codec': 1, 'Internal': 1, '10.8.': 2, 'platform': 2, 'general': 1, '36.8.': 1, '15.6.': 1, 'user': 2, 'other': 1, 'High-performance': 1, 'server': 4, 'offering': 1, '18.6.': 1, 'depth.': 1, 'pseudo-random': 1, 'Input': 2, 'attempt': 1, 'can': 1, 'logging.config': 1, 'various': 2, '37.5.': 1, '19.9.': 1, 'Structures': 1, '21.6.': 1, '12.': 2, 'readline': 3, '20.24.': 1, '40.5.': 1, 'xml.dom.minidom': 1, 'Alternate': 1, '15.12.': 1, '35.15.': 1, 'bdb': 1, 'complex': 2, '27.': 1, 'programs,': 1, '7.2.2.': 1, 'StringIO': 2, '31.13.': 1, 'reading': 1, '8.': 2, '38.1.': 1, 'operations': 5, 'clients': 1, '21.8.': 1, '27.2.': 1, 'classes': 4, 'packages': 2, '17.4.': 1, 'fpectl': 1, 'Tools': 7, 'io': 1, 'unicodedata': 1, 'DBM': 2, 'system.': 1, 'Operating': 3, 'language’s': 1, 're': 1, '20.20.': 1, '-': 291, '15.15.': 1, 'symbol': 2, '35.6.': 1, 'devices': 1, 'Passing': 1, '13.5.': 1, 'msvcrt': 1, '30.6.': 1, '13.3.': 2, 'standard': 6, 'Event': 1, 'Message': 1, '27.4.': 1, 'but': 2, '5.3.': 2, 'Decimal': 2, 'stack': 2, '11.6.': 2, 'Parse': 2, '8.6.': 2, 'effective': 1, 'Compression': 4, '4.7.1.': 1, 'Built-in': 7, 'computing': 1, 'character-cell': 1, '3.1.2.': 1, '20.17.': 1, 'Frameworks': 1, 'doctest': 1, 'freely': 2, 'Runtime': 1, 'Obsolete': 1, 'SGML': 1, 'Profilers': 1, 'xml.sax': 1, '19.11.': 1, 'installing': 1, 'multiple': 1, 'TLS/SSL': 1, 'audio': 3, '19.4.': 1, '35.3.': 1, 'Now-': 1, 'class': 2, '21.5.': 1, 'asynchat': 1, 'queue': 2, '31.3.': 1, 'Its': 1, '5.13.': 1, 'Waiting': 1, 'Boolean': 1, 'from': 6, 'Find': 1, 'building': 1, 'Compile': 2, 'interfaces': 2, 'FL': 1, 'curses': 3, 'HTMLParser': 1, 'covering': 1, 'Completion': 1, 'packages,': 1, 'accessible': 1, 'keywords': 1, 'Lambda': 1, 'dis': 1, '8.7.': 2, 'Dates': 1, 'itertools': 1, 'argparse': 1, '36.1.': 1, 'object-oriented': 1, 'parameters': 1, 'Audio': 1, 'General': 1, '36.': 1, 'type': 3, '32.4.': 1, 'Predefined': 1, 'Scrolled': 1, 'EasyDialogs': 1, 'results': 1, 'Restricting': 1, '18.5.': 1, 'crypt': 1, 'commonly': 2, 'Gateway': 1, 'platform-neutral': 1, 'repr': 1, 'An': 2, 'multiprocessing': 1, 'xml.dom.pulldom': 1, 'Windows': 4, '18.8.': 1, '18.12.': 1, 'Extension': 2, 'messages': 2, 'DEVICE': 1, 'Code': 1, 'CSV': 1, 'pdb': 1, 'logging': 2, '11.5.': 2, 'reference': 1, 'structured': 1, 'floating': 1, 'ctypes': 1, 'Multiple': 3, 'Writing': 2, 'binary': 3, 'Methods': 1, 'pipelines': 1, 'written': 1, 'GNU’s': 1, 'lexical': 1, 'del': 1, 'User': 2, '19.14.': 1, 'gzip': 3, 'usage': 1, '31.12.': 1, 'an': 4, 'Lists': 7, '28.2.': 1, 'functools': 1, 'Part': 1, 'archives': 2, 'urllib2': 1, '15.7.': 1, 'with': 22, 'calls': 2, 'growing': 1, 'Clauses': 1, 'RFC': 3, 'Generic': 4, '27.5.': 1, 'macpath': 1, '2.1.2.': 1, 'From': 1, 'DBM-style': 2, 'Low-level': 1, 'extensible': 1, 'table': 1, 'Terminal': 2, 'BSD': 1, 'base': 3, '2to3': 1, 'stat()': 1, 'chunk': 1, '27.15.': 1, '35.': 1, 'formats': 1, '7.1.': 2, '20.25.': 1, '9.8.': 2, 'Preparation': 1, '27.14.': 1, 'md5': 1, 'Set': 2, 'Logging': 4, 'pprint': 1, 'state': 1, 'container': 1, 'tokenize': 1, 'Instance': 1, '17.': 1, 'sha': 1, 'Zip': 1, '4.8.': 1, 'mmap': 1, 'Trace': 1, '5.1.2.': 1, '21.7.': 1, 'API': 3, 'Map': 1, 'good': 1, 'callable': 2, 'High-level': 1, 'copy': 2, 'Nested': 1, 'routines': 3, 'modules,': 2, 'style': 2, '35.2.': 1, 'use': 1, '22.2.': 1, 'mimetypes': 1, 'Higher-order': 1, '20.6.': 1, 'linecache': 1, 'through.': 1, 'ZIP': 1, '9.2.': 2, '39.': 1, 'has': 1, 'Apple': 1, '10.2.': 2, 'listed': 1, 'Other': 3, '4.7.': 1, 'logging.handlers': 1, 'System': 3, 'package': 3, 'Names': 2, 'cd': 1, 'includes': 1, 'foreign': 1, 'colorsys': 1, '36.6.': 1, 'wrapping': 1, 'shadow': 1, 'Raising': 1, '35.10.': 1, 'Configuration': 1, 'events': 1, 'import': 1, 'values': 1, 'opening': 1, '20.8.': 1, '20.13.': 1, 'os.statvfs()': 1, 'Batteries': 1, 'ioctl': 1, '7.10.': 1, 'filename': 1, 'working': 1, 'Package': 3, 'flp': 1, '3.2.': 1, 'dialog': 1, 'replacement': 2, 'NIS': 1, 'tuple,': 1, 'test': 1, 'Arithmetic:': 1, '23.2.': 1, 'and': 83, 'Arithmetic': 1, 'repr()': 1, 'Mac': 7, 'Object': 1, 'finder‘s': 1, 'al': 2, '13.1.': 2, '5.12.': 1, 'gettext': 1, 'grp': 1, 'Brief': 2, 'Error': 3, 'utilities': 3, 'pty': 1, '38.6.': 1, 'hotshot': 1, 'source': 3, 'sqlite3': 1, '20.23.': 1, 'Functions': 6, 'UserString': 1, 'event': 1, 'cgi': 1, '10.11.': 2, 'available': 2, '(Yellow': 1, '4.7.3.': 1, 'raw': 2, '8.15.': 1, '9.7.': 2, 'frozenset': 1, 'serialization': 2, 'abstracting': 1, 'xml.parsers.expat': 1, 'or': 7, 'AL': 1, 'creating': 1, 'interpreters': 1, 'give': 1, 'Your': 1, '11.10.': 1, 'Calculator': 1, 'Commands': 1, 'Control': 2, 'Sets': 1, 'themed': 1, '19.6.': 1, 'decoder': 1, 'retrieve': 1, 'output': 1, '7.7.': 1, 'elements': 1, 'Line': 2, 'math': 1, 'Profiling': 1, 'message': 3, 'Iterate': 1, '9.5.': 2, '12.3.': 1, 'Document': 1, 'Interface': 7, '9.10.': 1, 'Higher-level': 1, '8.17.': 1, 'String': 3, 'IRIX': 1, 'as': 14, 'distinct': 1, 'handler': 4, 'image': 2, '31.1.': 1, 'formal': 1, '24.7.': 1, '38.3.': 1, '20.11.': 1, '40.': 1, 'HTTP': 6, 'urllib': 1, 'Python.': 1, 'bytearray,': 1, '27.16.': 1, 'by': 5, 'Manipulate': 3, 'Bastion': 1, '38.12.': 1, 'wsgiref': 1, 'does': 1, '31.4.': 1, 'Ends': 1, 'pyclbr': 1, 'locale': 1, '5.4.': 2, 'version': 1, 'encoder': 1, 'Using': 5, 'services': 3, '25.2.': 1, 'Syntax': 4, '14.2.': 1, 'between': 3, 'Odds': 1, 'Pages)': 1, 'may': 2, '40.3.': 1, 'For': 2, 'headers': 1, 'Processing': 2, 'Parser': 3, '8.4.': 2, 'calendar': 1, 'structures': 1, 'Floating': 4, 'Classes': 4, 'To': 1, 'client': 9, 'http://www.python.org/,': 1, '10.10.': 2, '20.22.': 1, 'Editing': 2, 'underlying': 1, 'Time': 1, 'codeop': 1, 'Interpreting': 1, 'approach': 1, '38.4.': 1, 'Building': 1, 'sndhdr': 1, 'standardized': 1, '9.3.1.': 1, 'bzip2': 1, 'tests': 2, '5.1.': 2, 'Array': 1, 'Style': 1, 'time': 3, 'manipulation': 2, 'streams': 3, 'digests': 1, 'dict': 1, 'Dictionaries': 1, 'see': 1, '24.1.': 1, '14.': 2, '8.12.': 1, '13.6.': 1, '7.': 2, '27.11.': 1, 'characters': 1, '29.2.': 1, 'Context': 1, 'learn,': 1, 'Platform': 1, 'spwd': 1, 'list,': 1, 'Visitors': 1, 'System-specific': 1, 'First': 2, 'optional': 2, 'Common': 3, 'FORMS': 2, 'History': 2, 'robotparser': 1, '24.3.': 1, 'Markup': 1, 'UserList': 1, 'Namespaces': 1, '20.5.': 1, '25.6.': 1, 'Definition': 1, 'Archiving': 1, 'heapq': 1, 'functionality': 1, 'IDLE': 1, 'collections': 2, '20.1.': 1, 'programming': 1, '4.6.': 1, '14.1.': 2, 'urlparse': 1, 'compiler’s': 1, 'graphical': 1, 'hands-on': 1, 'password': 3, '20.10.': 1, 'Creation': 1, 'Expat': 1, 'parsing': 2, 'binhex4': 1, 'Model': 1, 'documents': 1, 'Global': 1, 'Efficient': 1, 'Encodings': 1, 'File-like': 1, 'decimal': 1, '27.7.': 1, 'languages': 1, '30.2.': 1, 'Faster': 1, 'Actions': 2, 'trees': 4, '20.9.': 1, 'float,': 1, 'IMAP4': 1, '40.6.': 1, 'User-defined': 1, 'Representation': 1, 'Some': 1, 'passwords': 1, 'ConfigParser': 1, 'zlib': 1, 'processing': 2, '11.13.': 1, 'WAV': 1, 'Handling': 3, 'snippets': 1, 'rlcompleter': 1, 'widgets': 2, '26.2.': 1, '18.7.': 1, 'new': 2, 'filenames': 1, 'Execution': 1, 'exclusion': 1, '7.2.1.': 1, '27.13.': 1, 'hierarchy': 1, 'curses.ascii': 1, '21.9.': 1, '5.': 2, 'symtable': 1, 'threads': 1, 'Scripts': 1, 'algorithm': 4, 'Method': 1, '24.4.': 1, 'Custom': 1, 'Restricted': 2, 'Files': 1, 'SAX2': 1, 'iterators': 1, '9.6.': 2, 'subprocess': 1, 'testing': 1, 'BaseHTTPServer': 1, 'protocol': 6, 'Operations': 1, 'object': 3, '35.13.': 1, 'Exceptions': 7, '13.': 2, 'every': 2, '8.5.': 2, 'atexit': 1, 'Print': 1, 'you': 3, '40.2.': 1, '17.6.': 1, 'operating': 3, 'bsddb': 1, 'it,': 1, 'imaplib': 1, 'In': 1, 'documentation.': 1, 'indicated': 1, 'CD-ROM': 1, 'implementation': 3, 'Argument': 4, 'sys': 1, 'introduces': 2, 'Python’s': 4, '19.3.': 1, 'Tuples': 1, 'UserDict': 1, 'curses.textpad': 1, 'input': 3, 'Unpacking': 1, 'dictionary': 1, '24.2.': 1, 'functions': 13, 'persistence': 1, 'MD5': 1, 'ElementTree': 1, 'Minimal': 1, '27.6.': 1, '38.5.': 1, 'importlib': 1, '4.4.': 1, 'Subprocesses': 1, 'rexec': 1, '2.1.': 1, 'nature,': 1, 'dir()': 1, '27.1.': 1, '31.5.': 1, 'frameworks),': 1, 'built-in': 2, 'often': 1, 'Language': 3, 'xdrlib': 1, 'imgfile': 1, 'json': 2, 'Font': 1, '20.12.': 1, 'pointers': 1, 'check': 1, 'DB-API': 1, 'on': 9, 'int,': 1, 'Keyed-Hashing': 1, 'stored': 1, 'High': 1, 'Limitations': 2, '5.1.1.': 1, 'form': 1, '35.9.': 1, 'Customization': 1, '8.16.': 1, '4.7.6.': 1, '16.1.': 1, '26.7.': 1, '16.7.': 1, 'dynamic': 1, '15.16.': 1, '20.21.': 1, 'registry': 2, 'Flow': 1, '31.6.': 1, 'Scripting': 1, '10.7.': 2, 'AIFF': 1, 'cmd': 1, 'C-style': 1, 'Process-based': 1, 'While': 1, 'additional': 2, '26.5.': 1, 'zipimport': 1, 'systems': 3, 'zipfile': 1, 'description': 1, 'ready': 1, 'Walk': 1, '18.': 1, 'problems': 1, 'pwd': 1, '16.2.': 1, 'htmlentitydefs': 1, 'nis': 1, 'tools': 2, 'Private': 1, 'This': 2, 'Packages': 3, 'Directories': 1, 'noteworthy': 1, 'variables': 1, 'going': 1, 'Multilingual': 1, 'path': 1, 'script': 2, 'Asynchronous': 2, 'temporary': 1, 'analysis': 1, 'aetools': 1, 'abstract': 1, 'faster': 1, 'compatible': 2, 'Termination': 1, 'Errors': 2, 'Exception': 1, 'there': 1, 'textwrap': 1, '23.1.': 1, 'modulefinder': 1, 'describes': 3, 'using': 1, 'asyncore': 1, '4122': 1, 'most': 3, 'Invoking': 1, '40.4.': 1, 'SMTP': 2, '30.4.': 1, '36.3.': 1, 'performance': 1, 'What': 1, '10.6.': 2, '12.4.': 1, 'matching': 1, 'party': 1, 'addition': 1, 'over': 1, '20.3.': 1, '7.9.': 1, 'areas': 1, 'interface': 14, 'Library': 3, 'Unicode': 2, 'GL': 1, '27.12.': 1, 'many': 5, '11.1.': 2, 'Resource': 1, 'Path': 1, '31.': 1, 'mail': 2, 'webbrowser': 1, 'major': 1, 'interpreter': 4, '19.5.': 1, '18.14.': 1, '38.10.': 1, 'loading': 1, '6.4.1.': 1, 'Remarks': 1, 'Protocols': 1, 'Default': 1, 'telnetlib': 1, 'platform’s': 1, 'system': 7, '35.16.': 1, '16.3.': 1, 'Tk': 4, 'Encoding': 1, 'Layouts': 1, 'looping': 1, '35.8.': 1, '31.8.': 1, 'Wildcards': 1, 'Interpreter': 7, 'if': 1, 'chunked': 1, '26.4.': 1, 'tarfile': 1, '24.': 1, 'make': 1, '7.8.': 1, 'Register': 1, 'pickletools': 1, 'Unordered': 1, 'POSIX': 2, 'hardware': 1, 'Standard': 7, 'httplib': 1, 'is': 8, 'arbitrary': 1, 'idea': 1, 'listings': 1, 'Open': 2, 'same': 1, '7.6.': 1, '36.5.': 1, 'would': 1, 'Convenience': 2, '19.12.': 1, 'Glossary': 1, 'controller': 1, 'Regression': 1, 'Graphics': 1, 'away': 1, 'optparse': 1, 'Networking': 1, '9.3.': 2, 'books': 1, 'Defining': 3, 'indentation': 1, '1.': 2, 'XML-RPC': 3, '3548:': 1, '18.3.': 1, 'Informal': 1, '5.7.': 2, 'FrameWork': 1, 'solutions': 1, 'sched': 1, 'Tcl/Tk': 1, 'codecs': 1, 'cookielib': 1, 'Tix': 1, '19.15.': 1, 'extensive': 1, '15.5.': 1, 'The': 28, '9.': 2, 'Unix-like': 1, 'Queue': 1, 'Reading': 2, 'set,': 1, '25.1.': 1, 'numeric': 1, 'Importing': 2, 'nntplib': 1, 'Authentication': 1, 'Iterators': 1, 'runtime': 2, '2.2.5.': 1, 'examples': 2, '8.10.': 1, 'Embedding': 1, 'Matching': 1, 'management': 2, 'environment': 1, 'running': 1, 'fractions': 1, 'cPickle': 1, 'Interpreters': 1, 'xml.sax.saxutils': 1, 'Multi-threading': 1, '17.5.': 1, 'sets': 1, '14.4.': 1, 'Config': 1, 'designs': 1, '2.2.': 1, 'glob': 1, '18.16.': 1, 'Web-browser': 1, 'language,': 1, 'Convert': 1, 'arguments': 1, '26.6.': 1, '2.2.2.': 1, 'Iterator': 1, 'point': 4, 'SunOS': 1, 'ftplib': 1, 'pretty': 1, 'shared': 1, '35.7.': 1, 'interactive': 1, 'Lock': 1, 'Templating': 1, 'Saving': 1, 'wave': 1, 'Optional': 1, 'programmers,': 1, 'Bytecode': 1, '38.7.': 1, 'Look': 1, 'tty': 2, 'Sun': 2, 'Library.': 2, 'Mapping': 1, 'Tour': 2, '17.1.': 1, 'sgmllib': 1, 'collection': 2, '“Compiled”': 1, '2.': 2, 'Debugger': 3, 'Times': 1, 'Locating': 1, 'interpreted': 1, 'DocXMLRPCServer': 1, '24.5.': 1, '15.2.': 1, 'tools,': 1, '3.1.4.': 1, '4.7.4.': 1, '8.2.': 2, 'elegant': 1, 'getopt': 1, 'sub-commands': 1, '19.': 1, 'its': 1, 'Cookie': 2, 'Rational': 1, 'mutex': 1, '29.1.': 1, 'concepts': 1, 'os': 1, '2.0': 1, 'Index.': 1, 'abc': 1, 'dummy_thread': 1, 'Comparing': 1, 'Internet': 5, '20.7.': 1, '39.1.': 1, '5.6.': 2, 'Keyword': 1, 'Widget': 1, '20.4.': 1, '3.': 2, '11.': 2, 'track': 1, 'Simple': 5, '18.4.': 1, 'Environment': 1, 'data': 11, 'Unix': 5, '27.17.': 1, 'MiniAEFrame': 1, 'Graphical': 2, 'It': 3, 'C).': 1, 'partial': 1, 'fileinput': 1, 'third': 1, 'XML': 5, '7.3.': 1, '25.5.': 1, 'writer': 1, 'quoted-printable': 1, 'mailboxes': 2, 'MimeWriter': 1, 'Command': 1, 'sysconfig': 1, 'thread': 2, 'popen2': 1, 'Core': 1, 'useful': 1, 'II': 1, '7.1.1.': 1, 'MacOS': 1, 'Inheritance': 2, 'Sequence': 1, '8.3.': 2, 'Manual.': 1, 'panel': 1, 'experience,': 1, 'function': 2, 'MH': 1, 'operator': 1, 'individual': 1, '__future__': 1, 'free': 1, 'GNU': 2, 'Mutual': 1, '4.5.': 1, '5.5.': 2, 'Undocumented': 2, 'FTP': 1, 'statvfs': 1, 'Bindings': 1, 'APIs.': 1, '7.4.': 1, 'IFF': 1, 'curses.panel': 1, 'Import': 2, 'off-line': 1, 'Mathematical': 3, 'asynchronous': 1, 'Mailcap': 1, 'parse': 4, 'live': 1, 'vulnerabilities': 1, 'basic': 2, 'Random': 2, '39.2.': 1, 'parsers': 2, 'Memory-mapped': 1, 'Appetite': 1, 'smtplib': 1, 'control': 5, '18.9.': 1, 'into': 2, 'at': 1, 'xrange': 1, 'macostools': 1, 'commands': 2, '11.12.': 1, '10.4.': 2, '2': 1, '38.11.': 1, 'Documentation': 2, '18.10.': 1, 'Telnet': 1, 'Issues': 1, 'Disassembler': 1, 'gc': 1, 'C)': 1, 'MS': 2, 'Fancier': 1, '33.': 1, 'Generation': 1, 'features,': 1, 'pkgutil': 1, 'ttk': 1, 'There': 1, 'Events': 1, 'XDR': 1, 'so': 2, '20.': 1, 'resources': 1, 'it': 3, 'plistlib': 1, 'Interprocess': 1, 'imageop': 1, 'Interfaces': 1, '40.1.': 1, 'request': 2, 'platform-specifics': 1, '_winreg': 1, '35.5.': 1, 'Pattern': 1, 'helps': 1, 'single': 1, 'str,': 1, 'ScrolledText': 1, '3': 2, 'Debugging': 1, '10.1.': 2, 'Attributes': 1, 'be': 7, 'Python': 61, 'Directory': 2, 'framework': 5, 'Microsoft': 1, 'wrapper': 4, 'handling': 5, 'X': 3, '14.3.': 1, 'os.path': 1, 'filling': 1, 'access': 9, 'OSA': 3, 'continue': 1, 'parts': 1, 'SHA-1': 1, '34.2.': 1, '18.2.': 1, '27.10.': 1, 'rapid': 1, '17.2.': 1, 'extensive,': 1, 'selection': 1, 'Future': 1, 'archive': 1, 'Types': 10, '6.1.': 2, 'reader': 1, 'whichdb': 1, 'poplib': 1, 'Base': 2, 'Generator': 1, 'also': 6, 'numbers': 4, 'library': 13, 'pattern': 2, 'network': 1, '8.9.': 1, '15.10.': 1, 'created': 1, 'directories': 1, 'Persistence': 1, 'necessary': 1, 'Fast': 1, 'Source': 1, 'Python/C': 1, 'Structured': 1, 'executing': 1, 'identifying': 1, 'ossaudiodev': 1, '8.8.': 1, 'well': 1, 'Startup': 1, '10.12.': 2, '35.4.': 1, '30.3.': 1, 'Tokenizer': 1, 'applications.': 1, 'Class-local': 1, '22.1.': 1, 'pipes': 1, '4.7.5.': 1, 'Expressions': 2, 'synchronized': 1, '9.3.3.': 1, '12.1.': 1, 'which': 1, 'Non-essential': 1, 'binascii': 1, 'file': 9, '25.3.': 1, '5.10.': 1, 'gives': 1, 'Warning': 1, '15.14.': 1, '15.8.': 1, 'Utilities': 5, '36.7.': 1, '3.1.': 1, 'line': 2, 'Unit': 1, 'added': 1, 'xml.etree.ElementTree': 1, 'directory': 1, 'about': 1, 'with-statement': 1, '11.4.': 2, 'expression': 1, 'C': 3, '6.1.1.': 1, '26.1.': 1, 'arrays': 1, 'gl': 3, 'informally': 1, '31.10.': 1, 'well.': 1, 'Convenient': 1, 'Search': 1, '(written': 1, 'module': 8, 'jpeg': 1, '31.11.': 1, 'that': 6, 'Exit': 1, '30.1.': 1, 'shell': 1, 'write': 9, '5.2.': 2, '28.': 1, 'include': 1, 'Old': 1, 'compileall': 1, 'distributed.': 1, 'operators': 1, '4.': 2, 'code': 4, 'containers': 1, 'ASCII': 2, 'wide': 1, '.plist': 1, 'Communication': 1, 'packaging': 1, 'syslog': 2, 'learn': 1, 'according': 1, 'handlers': 4, 'Class': 5, 'high-level': 1, '4.7.2.': 1, 'exact': 1, '15.11.': 1, 'Constants': 10, 'Record': 1, 'binhex': 1, 'SimpleXMLRPCServer': 1, 'Techniques': 1, 'Tkinter': 1, '20.18.': 1, 'lines': 2, 'Utility': 1, 'MacPython': 1, 'Too': 1, 'types': 5, 'small': 1, 'VC++': 1, 'I/O': 3, 'unique': 1, 'Extending': 1, '37.2.': 1, 'Helpers': 1, '18.11.': 1, '34.1.': 1, 'in': 14, 'Sound-playing': 1, 'trace': 1, 'Development': 1, 'imp': 1, '11.9.': 1, 'cStringIO': 1, 'Test': 1, 'contextlib': 1, 'AppleEvent': 2, 'expansion': 1, '15.13.': 1, 'site,': 1, 'fl': 2, 'termios': 1, 'several': 2, 'File': 8, 'Weak': 2, '8.11.': 1, 'tempfile': 1, '33.1.': 1, 'loops': 1, '28.1.': 1, 'Looping': 1, 'Services': 12, 'warnings': 1, 'Mode': 1, '13.2.': 2, 'Cryptographic': 1, 'Arbitrary': 1, 'feature.': 1, 'graphics': 1, '8.13.': 1, 'signal': 1, 'Modules': 10, 'future_builtins': 1, '35.1.': 1, 'command/response': 1, 'Alternatives': 1, 'Automated': 1, 'designed': 1, '10.3.': 2, 'Generators': 1, 'the': 42, 'Base32,': 1, 'xmlrpclib': 1, '19.13.': 1, 'wrappers': 1, 'Garbage': 1, 'Provide': 1, 'stringprep': 1, 'printer': 1, 'Manager': 2, '4.2.': 1, '21.2.': 1, '16.': 1, 'fcntl': 2, '6.3.': 1, 'List': 2, 'distributions.': 1, 'files': 16, 'tables': 1, 'symbols': 1, '29.': 1, 'uu': 1, '10.': 2, 'contains': 2, 'customizable': 1, 'Towards': 1, 'anydbm': 1, 'platforms.': 1, 'posixfile': 1, 'SocketServer': 1, 'Base64': 1, 'Binary': 1, '6.1.3.': 1, 'Conversions': 1, 'sunau': 1, 'imputil': 1, 'objects': 14, 'inaccessible': 1, 'copy_reg': 1, 'libraries': 1, 'fm': 1, 'distributions': 1, 'dialogs': 1, '35.14.': 1, 'semantics': 1, 'internals': 1, '11.8.': 2, 'Function': 3, 'hook': 2, 'Implementation': 1, '8.19.': 1, 'Whetting': 1, 'obtain': 1, '38.': 1, 'SAX': 2, 'extensions': 1, 'feature,': 1, 'such': 1, 'Values': 1, '27.3.': 1, 'Drop-in': 2, '15.4.': 1, 'range': 1, 'DB': 1, 'xml.dom': 1, 'Specific': 4, 'After': 1, '*': 1, 'Strings': 3, '9.5.1.': 1, '19.2.': 1, 'sunaudiodev': 2, 'Intermezzo:': 1, 'Coding': 1, '27.8.': 1, '18.15.': 1, 'Multimedia': 2, 'datatypes': 1, 'aetypes': 1, '8.14.': 1, 'shutil': 1, '(or': 1, 'gdbm': 1, 'imghdr': 1, 'line-oriented': 1, 'Web': 1, 'translation': 1, '32.5.': 1, 'described': 1, '3.1.3.': 1, 'Cached': 1, 'Measure': 1, '21.10.': 1, '38.8.': 1, 'msilib': 1, '8.1.': 2, 'Architecture': 1, '4.1.': 2, 'Instead,': 1, '2.2.1.': 1, 'databases': 2, 'decode': 4, 'audioop': 1, 'are': 5, 'turtle': 1, 'rfc822': 1, 'htmllib': 1, '11.2.': 2, 'extended': 1, '34.3.': 1, 'Truth': 1, 'date': 1, 'or,': 1, 'thousand': 1, '34.4.': 1, 'deep': 1, 'shlex': 1, 'buffer,': 1, '12.2.': 1, 'range()': 1, 'features': 2, '21.4.': 1, 'references': 1, 'Comparisons': 2, 'programming.': 2, 'options': 2, 'JSON': 1, '37.4.': 1, 'development': 2, '18.1.': 1, 'definitions': 1, '32.1.': 1, 'manager': 1, 'AU': 1, 'Self-documenting': 1, 'for': 63, 'Database': 1, 'usually': 1, 'Definitions': 1, 'runpy': 1, 'distutils': 1, 'DOM': 2, 'Reference': 4, 'bisection': 1, 'Top-level': 1, 'Statements,': 1, 'deltas': 1, 'CGIHTTPServer': 1, 'networking': 1, 'Executable': 1, 'cgitb': 1, '36.4.': 1, 'provided': 2, '37.1.': 1, 'JPEG': 1, 'shelve': 1, 'handy': 1, 'Conditions': 1, 'scripting': 1, 'dbm': 2, 'scripts': 2, 'will': 3, 'list': 1, 'information': 2, 'strings': 2, 'URLs': 2, 'ColorPicker': 1, 'More': 5, '37.': 1, 'SimpleHTTPServer': 1, '15.1.': 1, 'developers': 1, 'Miscellaneous': 3, '23.': 1, 'HTML': 3, 'About': 1, 'Sun’s': 1, 'Call': 1, 'conversions': 2, 'a': 13, 'Portable': 2, '15.9.': 1, '20.16.': 1, '10.5.': 2, 'manual': 1, '15.': 1, 'facility': 1, '6.4.2.': 1, '34.': 1, 'some': 2, 'Site-specific': 1, '25.': 1, 'Determine': 2, 'random': 1, 'SUNAUDIODEV': 1, '9.3.2.': 1, 'read': 3, 'Toolbox': 1, 'uuid': 1, '2.1.1.': 1, 'able': 1, 'netrc': 2, '6.1.2.': 1, 'occur': 1, 'token': 1, 'Data': 9, 'digest': 2, 'Programming': 2, 'execution': 3, 'Statements': 3, 'UUID': 1, 'Value': 1, 'smtpd': 1, 'portability': 1, '16.8.': 1, 'language': 3, 'MIME': 6, 'all': 3, 'Work': 1, 'errno': 2, '12.5.': 1, 'components': 3, 'aifc': 1, '3.1.1.': 1, 'encourage': 1, '5.1.3.': 1, 'very': 1, '13.4.': 2, 'memoryview': 1, 'A': 8, '21.': 1, 'help': 1, 'support': 8, 'select': 1, 'C++': 1, '7.5.': 1, '11.3.': 2, 'contents': 1, '5.1.4.1.': 1, 'generator': 1, 'ssl': 1, 'mailcap': 1, 'Mathematics': 1, 'these': 1, 'easily': 1, 'Text': 3, 'Variables': 1, 'Server': 1, '24.6.': 1, 'XHTML': 1, 'cover': 1, 'Read': 8, 'simple': 1, 'email': 2, 'tar': 1, 'bz2': 1, 'xml.sax.handler': 1, 'browser': 1, 'Support': 7, '9.11.': 1, '32.': 1, 'SGI': 4, '11.11.': 1, 'pass': 1, 'not': 2, 'multifile': 1, 'References': 3, 'Basic': 4, 'formatter': 1, 'extension': 3, 'unicode,': 1, '9': 1, 'ASTs': 1, '6.': 2, '21.3.': 1, 'Formatting': 2, 'Key': 1, 'Shallow': 1, 'Are': 1, 'normally': 1, 'User-specific': 1, '15.17.': 1, 'tutorial': 3, 'resource': 1, '20.15.': 1, 'robots.txt': 1, '6.4.3.': 1, '22.': 1, '36.9.': 1, '(from': 1, 'otherwise': 1, 'and,': 1, '16.5.': 1, 'Scopes': 1, 'Inspect': 1, '11.7.': 2, 'common': 1, '16.6.': 1, 'options,': 1, 'application': 3, '10.9.': 2, '38.9.': 1, 'Program': 2, '30.': 1, 'stat': 1, 'csv': 1, 'Redirection': 1, 'provide': 2, 'Useful': 1, 'powerful': 1, 'Included': 1, '“threading”': 1, 'Installer': 1, 'keyword': 1, 'style.': 1, '__builtin__': 1, 'distributed': 1, 'Regular': 1, 'Arguments': 2, 'Functional': 1, 'Point': 2, 'to': 38, '35.12.': 1, '2822': 1, '8.18.': 1, 'POP3': 1, 'aepack': 1, 'WSGI': 1, '20.2.': 1, 'Collector': 1, 'typing,': 1, '37.3.': 1, '4.3.': 1, 'Berkeley': 1, 'site': 3}\n"
     ]
    }
   ],
   "source": [
    "f= open('C:/Users/student/document.txt')\n",
    "\n",
    "text= f.read()\n",
    "text.replace('\\n',' ')\n",
    "\n",
    "textList=text.split()\n",
    "textSet= set(textList)\n",
    "\n",
    "\n",
    "for k in textSet:\n",
    "    result[k]=textList.count(k)\n",
    "\n",
    "print(result)"
   ]
  },
  {
   "cell_type": "code",
   "execution_count": null,
   "metadata": {},
   "outputs": [],
   "source": []
  }
 ],
 "metadata": {
  "kernelspec": {
   "display_name": "Python 3",
   "language": "python",
   "name": "python3"
  },
  "language_info": {
   "codemirror_mode": {
    "name": "ipython",
    "version": 3
   },
   "file_extension": ".py",
   "mimetype": "text/x-python",
   "name": "python",
   "nbconvert_exporter": "python",
   "pygments_lexer": "ipython3",
   "version": "3.7.4"
  }
 },
 "nbformat": 4,
 "nbformat_minor": 2
}
