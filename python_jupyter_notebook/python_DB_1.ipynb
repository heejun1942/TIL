{
 "cells": [
  {
   "cell_type": "code",
   "execution_count": 9,
   "metadata": {},
   "outputs": [
    {
     "name": "stdout",
     "output_type": "stream",
     "text": [
      "(1050, \"Table 'mysql' already exists\")\n"
     ]
    }
   ],
   "source": [
    "import pymysql\n",
    "\n",
    "conn=pymysql.connect(\n",
    "    host='localhost', user='root', password='1146',\n",
    "    db='python', charset='utf8'\n",
    ")\n",
    "\n",
    "cursor=conn.cursor()\n",
    "sql='''CREATE TABLE mysql(\n",
    "        id INTEGER PRIMARY KEY AUTO_INCREMENT\n",
    "        , title VARCHAR(100), content VARCHAR(100))'''\n",
    "\n",
    "cursor.execute(sql)\n",
    "conn.commit()\n",
    "\n",
    "# close 꼭 해주기\n",
    "cursor.close()\n",
    "conn.close()\n"
   ]
  },
  {
   "cell_type": "code",
   "execution_count": 15,
   "metadata": {},
   "outputs": [
    {
     "name": "stdout",
     "output_type": "stream",
     "text": [
      "(1049, \"Unknown database 'python2'\")\n"
     ]
    }
   ],
   "source": [
    "# 위에코드 예외처리\n",
    "\n",
    "import pymysql\n",
    "\n",
    "# finally에서 사용할 수 있게 전역으로\n",
    "conn = None\n",
    "\n",
    "try:\n",
    "    conn=pymysql.connect(\n",
    "        host='localhost', user='root', password='1146',\n",
    "        db='python2', charset='utf8'\n",
    "    )\n",
    "\n",
    "    # with를 이용하여 자동 close\n",
    "    with conn.cursor() as cursor:  \n",
    "        sql='''CREATE TABLE mysql(\n",
    "                id INTEGER PRIMARY KEY AUTO_INCREMENT\n",
    "                , title VARCHAR(100), content VARCHAR(100))'''\n",
    "        cursor.execute(sql)\n",
    "        conn.commit()\n",
    "\n",
    "except pymysql.InternalError as e:\n",
    "    print(e)\n",
    "\n",
    "finally:\n",
    "    if conn:\n",
    "        conn.close() # try 내의 지역변수\n"
   ]
  },
  {
   "cell_type": "code",
   "execution_count": 18,
   "metadata": {},
   "outputs": [],
   "source": [
    "import pymysql\n",
    "\n",
    "conn=pymysql.connect(\n",
    "    host='localhost', user='root', password='1146',\n",
    "    db='python', charset='utf8'\n",
    ")\n",
    "\n",
    "cursor=conn.cursor()\n",
    "sql='''INSERT INTO mysql (id, title, content) VALUES (null, %s, %s)'''\n",
    "\n",
    "\n",
    "cursor.execute(sql,('제목A', '내용Z'))\n",
    "conn.commit()\n",
    "\n",
    "# close 꼭 해주기\n",
    "cursor.close()\n",
    "conn.close()"
   ]
  },
  {
   "cell_type": "code",
   "execution_count": 20,
   "metadata": {},
   "outputs": [],
   "source": [
    "import pymysql\n",
    "\n",
    "conn=pymysql.connect(\n",
    "    host='localhost', user='root', password='1146',\n",
    "    db='python', charset='utf8'\n",
    ")\n",
    "\n",
    "cursor=conn.cursor()\n",
    "sql='''UPDATE mysql SET title=%s WHERE id=%s'''\n",
    "\n",
    "\n",
    "cursor.execute(sql,('제목수정됨',1))\n",
    "\n",
    "conn.commit()\n",
    "cursor.close()\n",
    "conn.close()"
   ]
  },
  {
   "cell_type": "code",
   "execution_count": null,
   "metadata": {},
   "outputs": [],
   "source": [
    "import pymysql\n",
    "\n",
    "conn=pymysql.connect(\n",
    "    host='localhost', user='root', password='1146',\n",
    "    db='python', charset='utf8'\n",
    ")\n",
    "\n",
    "cursor=conn.cursor()\n",
    "sql='''DELETE FROM mysql WHERE id=%s'''\n",
    "\n",
    "\n",
    "cursor.execute(sql,(2))\n",
    "\n",
    "conn.commit()\n",
    "# close 꼭 해주기\n",
    "cursor.close()\n",
    "conn.close()"
   ]
  },
  {
   "cell_type": "code",
   "execution_count": 22,
   "metadata": {},
   "outputs": [
    {
     "name": "stdout",
     "output_type": "stream",
     "text": [
      "((1, '제목수정됨', '내용Z'), (2, '제목A', '내용Z'))\n",
      "(1, '제목수정됨', '내용Z')\n",
      "제목수정됨\n"
     ]
    }
   ],
   "source": [
    "# select사용\n",
    "\n",
    "import pymysql\n",
    "\n",
    "conn=pymysql.connect(\n",
    "    host='localhost', user='root', password='1146',\n",
    "    db='python', charset='utf8'\n",
    ")\n",
    "\n",
    "cursor=conn.cursor()\n",
    "sql='''SELECT * FROM MYSQL'''\n",
    "cursor.execute(sql)\n",
    "result= cursor.fetchall()\n",
    "print(result)\n",
    "print(result[0])\n",
    "print(result[0][1])\n",
    "\n",
    "conn.commit()\n",
    "cursor.close()\n",
    "conn.close()"
   ]
  },
  {
   "cell_type": "code",
   "execution_count": 23,
   "metadata": {},
   "outputs": [
    {
     "name": "stdout",
     "output_type": "stream",
     "text": [
      "((1, '제목수정됨', '내용Z'), (2, '제목A', '내용Z'))\n",
      "(1, '제목수정됨', '내용Z')\n",
      "제목수정됨\n"
     ]
    }
   ],
   "source": [
    "# fetchmany()사용\n",
    "\n",
    "import pymysql\n",
    "\n",
    "conn=pymysql.connect(\n",
    "    host='localhost', user='root', password='1146',\n",
    "    db='python', charset='utf8'\n",
    ")\n",
    "\n",
    "cursor=conn.cursor()\n",
    "sql='''SELECT * FROM MYSQL'''\n",
    "cursor.execute(sql)\n",
    "result= cursor.fetchmany(2)\n",
    "print(result)\n",
    "print(result[0])\n",
    "print(result[0][1])\n",
    "\n",
    "conn.commit()\n",
    "cursor.close()\n",
    "conn.close()"
   ]
  },
  {
   "cell_type": "markdown",
   "metadata": {},
   "source": [
    "### 연습문제 11_1"
   ]
  },
  {
   "cell_type": "code",
   "execution_count": 26,
   "metadata": {},
   "outputs": [],
   "source": [
    "import pymysql\n",
    "\n",
    "conn = pymysql.connect(\n",
    " host='localhost', user='root', password='1146',\n",
    " db='pythondb', charset='utf8'\n",
    ")\n",
    "\n",
    "cursor=conn.cursor()\n",
    "sql='''CREATE TABLE member(\n",
    "        num INTEGER PRIMARY KEY AUTO_INCREMENT\n",
    "        , name VARCHAR(30), email VARCHAR(30), c_date DATETIME)'''\n",
    "\n",
    "cursor.execute(sql)\n",
    "conn.commit()\n",
    "\n",
    "# close 꼭 해주기\n",
    "cursor.close()\n",
    "conn.close()\n"
   ]
  },
  {
   "cell_type": "code",
   "execution_count": 27,
   "metadata": {},
   "outputs": [],
   "source": [
    "import pymysql\n",
    "\n",
    "conn = pymysql.connect(\n",
    " host='localhost', user='root', password='1146',\n",
    " db='pythondb', charset='utf8'\n",
    ")\n",
    "\n",
    "cursor=conn.cursor()\n",
    "sql='''CREATE TABLE article(\n",
    "        id INTEGER PRIMARY KEY AUTO_INCREMENT\n",
    "        , title VARCHAR(30), content VARCHAR(30),\n",
    "        writer VARCHAR(30), HIT INTEGER,\n",
    "        c_date DATETIME)'''\n",
    "\n",
    "cursor.execute(sql)\n",
    "conn.commit()\n",
    "\n",
    "# close 꼭 해주기\n",
    "cursor.close()\n",
    "conn.close()\n"
   ]
  },
  {
   "cell_type": "code",
   "execution_count": null,
   "metadata": {},
   "outputs": [],
   "source": []
  },
  {
   "cell_type": "code",
   "execution_count": null,
   "metadata": {},
   "outputs": [],
   "source": []
  }
 ],
 "metadata": {
  "kernelspec": {
   "display_name": "Python 3",
   "language": "python",
   "name": "python3"
  },
  "language_info": {
   "codemirror_mode": {
    "name": "ipython",
    "version": 3
   },
   "file_extension": ".py",
   "mimetype": "text/x-python",
   "name": "python",
   "nbconvert_exporter": "python",
   "pygments_lexer": "ipython3",
   "version": "3.7.4"
  }
 },
 "nbformat": 4,
 "nbformat_minor": 2
}
